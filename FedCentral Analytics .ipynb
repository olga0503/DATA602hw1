{
 "cells": [
  {
   "cell_type": "markdown",
   "metadata": {},
   "source": [
    "## Aggregate Report (All Federations)"
   ]
  },
  {
   "cell_type": "code",
   "execution_count": 2,
   "metadata": {},
   "outputs": [],
   "source": [
    "#install packages\n",
    "import pandas as pd\n",
    "import matplotlib.pyplot as plt\n",
    "import seaborn as sns\n",
    "sns.set()\n",
    "import re\n",
    "import matplotlib\n",
    "import wordcloud #conda install -c conda-forge wordcloud=1.2.1 \n",
    "from wordcloud import WordCloud, STOPWORDS"
   ]
  },
  {
   "cell_type": "markdown",
   "metadata": {},
   "source": [
    "### FedCentral"
   ]
  },
  {
   "cell_type": "markdown",
   "metadata": {},
   "source": [
    "#### Session Duration"
   ]
  },
  {
   "cell_type": "markdown",
   "metadata": {},
   "source": [
    "52 second"
   ]
  },
  {
   "cell_type": "markdown",
   "metadata": {},
   "source": [
    "#### Total number of registered users"
   ]
  },
  {
   "cell_type": "code",
   "execution_count": 10,
   "metadata": {},
   "outputs": [
    {
     "name": "stdout",
     "output_type": "stream",
     "text": [
      "3865\n",
      "143\n",
      "0.9930555555555556\n",
      "45\n",
      "0.15254237288135594\n"
     ]
    }
   ],
   "source": [
    "fedcentral_users = pd.read_csv('Fedcentral_users.csv')\n",
    "federations = pd.read_csv('federations.csv')\n",
    "total_users = len(fedcentral_users)\n",
    "print(total_users)\n",
    "fedcentral_users['Date Joined'] = fedcentral_users['Date Joined'].str.split(' ',expand=True)[0]\n",
    "fedcentral_users['Last Login'] = fedcentral_users['Last Login'].str.split(' ',expand=True)[0]\n",
    "fedcentral_users['Date Joined'].fillna('2013/12/31',inplace=True)\n",
    "fedcentral_users['Date Joined'] = pd.to_datetime(fedcentral_users['Date Joined'])\n",
    "fedcentral_users['Last Login'] = pd.to_datetime(fedcentral_users['Last Login'])\n",
    "fedcentral_users_by_federation = pd.merge(fedcentral_users, federations[['name','code','type']], how='left',left_on = 'Federation', right_on = 'name')\n",
    "fedcentral_users_by_federation_fed = set(fedcentral_users_by_federation[fedcentral_users_by_federation['type']=='yes']['Federation'])\n",
    "federations_fed = set(federations[federations['type']=='yes']['name'])\n",
    "total_fed = len(fedcentral_users_by_federation_fed)\n",
    "\n",
    "total_registered_fed = fedcentral_users_by_federation_fed\n",
    "print(len(total_registered_fed))\n",
    "print(len(fedcentral_users_by_federation_fed)/len(federations_fed))\n",
    "\n",
    "fedcentral_users_by_federation_net = set(fedcentral_users_by_federation[fedcentral_users_by_federation['type']=='no']['Federation'])\n",
    "\n",
    "print(len(fedcentral_users_by_federation_net))\n",
    "federations_net = set(federations[federations['type']=='no']['name'])\n",
    "print(len(fedcentral_users_by_federation_net)/len(federations_net))"
   ]
  },
  {
   "cell_type": "markdown",
   "metadata": {},
   "source": [
    "There are 3865 users are currently registered in FedCentral. \n",
    "143 federations have registered FedCentral memebers.  It's almost 99% of all federations. 45 federations have registered FedCentral memebers.  It's 15% of all networks. Federations that don't have registered FedCentral users are shown below:"
   ]
  },
  {
   "cell_type": "code",
   "execution_count": 38,
   "metadata": {},
   "outputs": [
    {
     "name": "stdout",
     "output_type": "stream",
     "text": [
      "Jewish Federation of Greater Rockford\n"
     ]
    }
   ],
   "source": [
    "for fed in federations_fed:\n",
    "    if fed not in fedcentral_users_by_federation_fed:\n",
    "        print(fed)"
   ]
  },
  {
   "cell_type": "code",
   "execution_count": 39,
   "metadata": {},
   "outputs": [
    {
     "name": "stdout",
     "output_type": "stream",
     "text": [
      "0.8458939708939709\n",
      "0.09485446985446985\n"
     ]
    }
   ],
   "source": [
    "print(fedcentral_users_by_federation[fedcentral_users_by_federation['type']=='yes']['Email'].count()/3848)\n",
    "print(fedcentral_users_by_federation[fedcentral_users_by_federation['type']=='no']['Email'].count()/3848)"
   ]
  },
  {
   "cell_type": "markdown",
   "metadata": {},
   "source": [
    "84% of registered users belong to Federations and 9% of registered users belong to Networks. "
   ]
  },
  {
   "cell_type": "code",
   "execution_count": 40,
   "metadata": {},
   "outputs": [
    {
     "data": {
      "text/plain": [
       "465"
      ]
     },
     "execution_count": 40,
     "metadata": {},
     "output_type": "execute_result"
    }
   ],
   "source": [
    "fedcentral_users_growth_rate = fedcentral_users[['Email','Date Joined']]\n",
    "fedcentral_users_growth_rate.set_index('Date Joined',inplace=True)\n",
    "fedcentral_users_growth_rate['2017-11-01':'2018-10-31']['Email'].count()"
   ]
  },
  {
   "cell_type": "markdown",
   "metadata": {},
   "source": [
    "465 users joined FedCentral within the past year."
   ]
  },
  {
   "cell_type": "code",
   "execution_count": 41,
   "metadata": {},
   "outputs": [
    {
     "data": {
      "text/html": [
       "<div>\n",
       "<style scoped>\n",
       "    .dataframe tbody tr th:only-of-type {\n",
       "        vertical-align: middle;\n",
       "    }\n",
       "\n",
       "    .dataframe tbody tr th {\n",
       "        vertical-align: top;\n",
       "    }\n",
       "\n",
       "    .dataframe thead th {\n",
       "        text-align: right;\n",
       "    }\n",
       "</style>\n",
       "<table border=\"1\" class=\"dataframe\">\n",
       "  <thead>\n",
       "    <tr style=\"text-align: right;\">\n",
       "      <th></th>\n",
       "      <th>Year</th>\n",
       "      <th># New Users</th>\n",
       "      <th>Total Users</th>\n",
       "      <th>% change</th>\n",
       "    </tr>\n",
       "  </thead>\n",
       "  <tbody>\n",
       "    <tr>\n",
       "      <th>2</th>\n",
       "      <td>2015</td>\n",
       "      <td>1058</td>\n",
       "      <td>1058</td>\n",
       "      <td>16.52</td>\n",
       "    </tr>\n",
       "    <tr>\n",
       "      <th>3</th>\n",
       "      <td>2016</td>\n",
       "      <td>1699</td>\n",
       "      <td>2757</td>\n",
       "      <td>160.59</td>\n",
       "    </tr>\n",
       "    <tr>\n",
       "      <th>4</th>\n",
       "      <td>2017</td>\n",
       "      <td>676</td>\n",
       "      <td>3433</td>\n",
       "      <td>24.52</td>\n",
       "    </tr>\n",
       "    <tr>\n",
       "      <th>5</th>\n",
       "      <td>2018</td>\n",
       "      <td>432</td>\n",
       "      <td>3865</td>\n",
       "      <td>12.58</td>\n",
       "    </tr>\n",
       "  </tbody>\n",
       "</table>\n",
       "</div>"
      ],
      "text/plain": [
       "   Year  # New Users  Total Users  % change\n",
       "2  2015         1058         1058     16.52\n",
       "3  2016         1699         2757    160.59\n",
       "4  2017          676         3433     24.52\n",
       "5  2018          432         3865     12.58"
      ]
     },
     "execution_count": 41,
     "metadata": {},
     "output_type": "execute_result"
    }
   ],
   "source": [
    "fedcentral_users_growth_cumsum = pd.DataFrame(fedcentral_users_growth_rate.resample('Y')['Email'].count())\n",
    "fedcentral_users_growth_cumsum.columns=['# New Users']\n",
    "fedcentral_users_growth_cumsum['Year'] = ['2013','2014','2015','2016','2017','2018']\n",
    "fedcentral_users_growth_cumsum['Total Users'] = fedcentral_users_growth_cumsum['# New Users'].cumsum().values\n",
    "fedcentral_users_growth_cumsum.reset_index(inplace=True)\n",
    "fedcentral_users_growth_cumsum[['Year','# New Users','Total Users']]\n",
    "fedcentral_users_growth_cumsum['% change'] = round(fedcentral_users_growth_cumsum['Total Users'].pct_change()*100,2)\n",
    "fedcentral_users_growth_cumsum.loc[2,'# New Users'] = fedcentral_users_growth_cumsum.loc[0:2,'# New Users'].sum() \n",
    "fedcentral_users_growth_cumsum.drop(['Date Joined'],axis=1,inplace=True)\n",
    "fedcentral_users_growth_cumsum.drop(fedcentral_users_growth_cumsum.index[0:2],inplace=True)\n",
    "fedcentral_users_growth_cumsum[['Year','# New Users','Total Users','% change']]"
   ]
  },
  {
   "cell_type": "markdown",
   "metadata": {},
   "source": [
    "432 users joined FedCentral within the past year. On average 603 users join FedCentral every year since 2013.  The graph above shows the growth rate of registered users of Fedcentral."
   ]
  },
  {
   "cell_type": "code",
   "execution_count": 256,
   "metadata": {},
   "outputs": [
    {
     "data": {
      "image/png": "[encoded data removed]",
      "text/plain": [
       "<Figure size 360x360 with 1 Axes>"
      ]
     },
     "metadata": {},
     "output_type": "display_data"
    }
   ],
   "source": [
    "sns.set(style=\"ticks\")\n",
    "\n",
    "flatui = [\"#34495e\"]\n",
    "\n",
    "# This Function takes as input a custom palette\n",
    "g = sns.barplot(x='Year', y='Total Users', palette=sns.color_palette(flatui),data=fedcentral_users_growth_cumsum,ci=None)\n",
    "\n",
    "flatui = [\"#34495a\"]\n",
    "\n",
    "# remove the top and right line in graph\n",
    "sns.despine()\n",
    "\n",
    "# Set the size of the graph from here\n",
    "g.figure.set_size_inches(5,5)\n",
    "# Set the Title of the graph from here\n",
    "g.axes.set_title('Number of Registered Users',\n",
    "    fontsize=20,color=\"b\",alpha=0.3)\n",
    "# Set the xlabel of the graph from here\n",
    "g.set_xlabel(\"years\",size = 15,color=\"b\",alpha=0.5)\n",
    "# Set the ylabel of the graph from here\n",
    "g.set_ylabel(\"registered users\",size = 15,color=\"b\",alpha=0.5)\n",
    "# Set the ticklabel size and color of the graph from here\n",
    "g.tick_params(labelsize=12,labelcolor=\"black\")"
   ]
  },
  {
   "cell_type": "markdown",
   "metadata": {},
   "source": [
    "#### FedCentral: Number of active users per day"
   ]
  },
  {
   "cell_type": "code",
   "execution_count": 43,
   "metadata": {},
   "outputs": [
    {
     "data": {
      "text/plain": [
       "198.0"
      ]
     },
     "execution_count": 43,
     "metadata": {},
     "output_type": "execute_result"
    }
   ],
   "source": [
    "active_users_daily = pd.read_csv('active_users_daily.csv',skiprows=1,names=['date','active_users'])\n",
    "users_daily = round(active_users_daily[active_users_daily['active_users']>30].active_users.mean(),0)\n",
    "users_daily"
   ]
  },
  {
   "cell_type": "markdown",
   "metadata": {},
   "source": [
    "On average 198 FedCentral members use FedCentral daily(weekends and holidays were excluded)."
   ]
  },
  {
   "cell_type": "markdown",
   "metadata": {},
   "source": [
    "#### FedCentral: Number of active users per week"
   ]
  },
  {
   "cell_type": "code",
   "execution_count": 44,
   "metadata": {},
   "outputs": [
    {
     "data": {
      "text/plain": [
       "827.0"
      ]
     },
     "execution_count": 44,
     "metadata": {},
     "output_type": "execute_result"
    }
   ],
   "source": [
    "active_users_weekly = pd.read_csv('active_users_weekly.csv',skiprows=1,names=['date','active_users'])\n",
    "users_weekly = round(active_users_weekly.active_users.mean()*1.15,0)\n",
    "users_weekly"
   ]
  },
  {
   "cell_type": "markdown",
   "metadata": {},
   "source": [
    "On average 899 FedCentral members use FedCentral monthly(weekends and holidays were excluded)."
   ]
  },
  {
   "cell_type": "markdown",
   "metadata": {},
   "source": [
    "#### FedCentral: Number of active users per month (average number of unique visits per month)"
   ]
  },
  {
   "cell_type": "markdown",
   "metadata": {},
   "source": [
    "The table below shows average number of active users per month."
   ]
  },
  {
   "cell_type": "code",
   "execution_count": 110,
   "metadata": {},
   "outputs": [
    {
     "data": {
      "text/html": [
       "<div>\n",
       "<style scoped>\n",
       "    .dataframe tbody tr th:only-of-type {\n",
       "        vertical-align: middle;\n",
       "    }\n",
       "\n",
       "    .dataframe tbody tr th {\n",
       "        vertical-align: top;\n",
       "    }\n",
       "\n",
       "    .dataframe thead th {\n",
       "        text-align: right;\n",
       "    }\n",
       "</style>\n",
       "<table border=\"1\" class=\"dataframe\">\n",
       "  <thead>\n",
       "    <tr style=\"text-align: right;\">\n",
       "      <th></th>\n",
       "      <th>Date</th>\n",
       "      <th>Active Users</th>\n",
       "      <th>% Registered Users</th>\n",
       "    </tr>\n",
       "  </thead>\n",
       "  <tbody>\n",
       "    <tr>\n",
       "      <th>0</th>\n",
       "      <td>November</td>\n",
       "      <td>2436.0</td>\n",
       "      <td>63.03</td>\n",
       "    </tr>\n",
       "    <tr>\n",
       "      <th>1</th>\n",
       "      <td>December</td>\n",
       "      <td>2673.0</td>\n",
       "      <td>69.16</td>\n",
       "    </tr>\n",
       "    <tr>\n",
       "      <th>2</th>\n",
       "      <td>January</td>\n",
       "      <td>2255.0</td>\n",
       "      <td>58.34</td>\n",
       "    </tr>\n",
       "    <tr>\n",
       "      <th>3</th>\n",
       "      <td>February</td>\n",
       "      <td>2470.0</td>\n",
       "      <td>63.91</td>\n",
       "    </tr>\n",
       "    <tr>\n",
       "      <th>4</th>\n",
       "      <td>March</td>\n",
       "      <td>3349.0</td>\n",
       "      <td>86.65</td>\n",
       "    </tr>\n",
       "    <tr>\n",
       "      <th>5</th>\n",
       "      <td>April</td>\n",
       "      <td>3141.0</td>\n",
       "      <td>81.27</td>\n",
       "    </tr>\n",
       "    <tr>\n",
       "      <th>6</th>\n",
       "      <td>May</td>\n",
       "      <td>2905.0</td>\n",
       "      <td>75.16</td>\n",
       "    </tr>\n",
       "    <tr>\n",
       "      <th>7</th>\n",
       "      <td>June</td>\n",
       "      <td>3160.0</td>\n",
       "      <td>81.76</td>\n",
       "    </tr>\n",
       "    <tr>\n",
       "      <th>8</th>\n",
       "      <td>July</td>\n",
       "      <td>2954.0</td>\n",
       "      <td>76.43</td>\n",
       "    </tr>\n",
       "    <tr>\n",
       "      <th>9</th>\n",
       "      <td>August</td>\n",
       "      <td>3356.0</td>\n",
       "      <td>86.83</td>\n",
       "    </tr>\n",
       "    <tr>\n",
       "      <th>10</th>\n",
       "      <td>September</td>\n",
       "      <td>2532.0</td>\n",
       "      <td>65.51</td>\n",
       "    </tr>\n",
       "    <tr>\n",
       "      <th>11</th>\n",
       "      <td>October</td>\n",
       "      <td>2194.0</td>\n",
       "      <td>56.77</td>\n",
       "    </tr>\n",
       "  </tbody>\n",
       "</table>\n",
       "</div>"
      ],
      "text/plain": [
       "         Date  Active Users  % Registered Users\n",
       "0    November        2436.0               63.03\n",
       "1    December        2673.0               69.16\n",
       "2     January        2255.0               58.34\n",
       "3    February        2470.0               63.91\n",
       "4       March        3349.0               86.65\n",
       "5       April        3141.0               81.27\n",
       "6         May        2905.0               75.16\n",
       "7        June        3160.0               81.76\n",
       "8        July        2954.0               76.43\n",
       "9      August        3356.0               86.83\n",
       "10  September        2532.0               65.51\n",
       "11    October        2194.0               56.77"
      ]
     },
     "execution_count": 110,
     "metadata": {},
     "output_type": "execute_result"
    }
   ],
   "source": [
    "#active_users_monthly = pd.read_csv('active_users_monthly.csv',skiprows=1,names=['date','Active Users'],parse_dates=[\"date\"], index_col=\"date\")\n",
    "#active_users_monthly = round(active_users_monthly.resample('M')['Active Users'].mean()*1.25,0)\n",
    "#active_users_monthly = pd.DataFrame(({'Date':active_users_monthly.index, 'Active Users':active_users_monthly.values}))\n",
    "#active_users_monthly['Date'] = ['November','December','January','February','March','April','May','June','July','August','September','October']\n",
    "#active_users_monthly['% Registered Users'] = round(active_users_monthly['Active Users']*100/len(fedcentral_users),2)\n",
    "#active_users_monthly"
   ]
  },
  {
   "cell_type": "code",
   "execution_count": 26,
   "metadata": {},
   "outputs": [
    {
     "data": {
      "text/html": [
       "<div>\n",
       "<style scoped>\n",
       "    .dataframe tbody tr th:only-of-type {\n",
       "        vertical-align: middle;\n",
       "    }\n",
       "\n",
       "    .dataframe tbody tr th {\n",
       "        vertical-align: top;\n",
       "    }\n",
       "\n",
       "    .dataframe thead th {\n",
       "        text-align: right;\n",
       "    }\n",
       "</style>\n",
       "<table border=\"1\" class=\"dataframe\">\n",
       "  <thead>\n",
       "    <tr style=\"text-align: right;\">\n",
       "      <th></th>\n",
       "      <th>Date</th>\n",
       "      <th>Active Users</th>\n",
       "      <th>% Registered Users</th>\n",
       "      <th>Time Spend on Page</th>\n",
       "      <th>Page Views</th>\n",
       "      <th>Downloads</th>\n",
       "      <th>Searches</th>\n",
       "    </tr>\n",
       "  </thead>\n",
       "  <tbody>\n",
       "    <tr>\n",
       "      <th>0</th>\n",
       "      <td>November</td>\n",
       "      <td>640</td>\n",
       "      <td>16.56</td>\n",
       "      <td></td>\n",
       "      <td></td>\n",
       "      <td></td>\n",
       "      <td></td>\n",
       "    </tr>\n",
       "    <tr>\n",
       "      <th>1</th>\n",
       "      <td>December</td>\n",
       "      <td>596</td>\n",
       "      <td>15.42</td>\n",
       "      <td></td>\n",
       "      <td></td>\n",
       "      <td></td>\n",
       "      <td></td>\n",
       "    </tr>\n",
       "    <tr>\n",
       "      <th>2</th>\n",
       "      <td>January</td>\n",
       "      <td>613</td>\n",
       "      <td>15.86</td>\n",
       "      <td></td>\n",
       "      <td></td>\n",
       "      <td></td>\n",
       "      <td></td>\n",
       "    </tr>\n",
       "    <tr>\n",
       "      <th>3</th>\n",
       "      <td>February</td>\n",
       "      <td>605</td>\n",
       "      <td>15.65</td>\n",
       "      <td></td>\n",
       "      <td></td>\n",
       "      <td></td>\n",
       "      <td></td>\n",
       "    </tr>\n",
       "    <tr>\n",
       "      <th>4</th>\n",
       "      <td>March</td>\n",
       "      <td>671</td>\n",
       "      <td>17.36</td>\n",
       "      <td></td>\n",
       "      <td></td>\n",
       "      <td></td>\n",
       "      <td></td>\n",
       "    </tr>\n",
       "    <tr>\n",
       "      <th>5</th>\n",
       "      <td>April</td>\n",
       "      <td>614</td>\n",
       "      <td>15.89</td>\n",
       "      <td></td>\n",
       "      <td></td>\n",
       "      <td></td>\n",
       "      <td></td>\n",
       "    </tr>\n",
       "    <tr>\n",
       "      <th>6</th>\n",
       "      <td>May</td>\n",
       "      <td>571</td>\n",
       "      <td>14.77</td>\n",
       "      <td></td>\n",
       "      <td></td>\n",
       "      <td></td>\n",
       "      <td></td>\n",
       "    </tr>\n",
       "    <tr>\n",
       "      <th>7</th>\n",
       "      <td>June</td>\n",
       "      <td>667</td>\n",
       "      <td>17.26</td>\n",
       "      <td></td>\n",
       "      <td></td>\n",
       "      <td></td>\n",
       "      <td></td>\n",
       "    </tr>\n",
       "    <tr>\n",
       "      <th>8</th>\n",
       "      <td>July</td>\n",
       "      <td>639</td>\n",
       "      <td>16.53</td>\n",
       "      <td></td>\n",
       "      <td></td>\n",
       "      <td></td>\n",
       "      <td></td>\n",
       "    </tr>\n",
       "    <tr>\n",
       "      <th>9</th>\n",
       "      <td>August</td>\n",
       "      <td>819</td>\n",
       "      <td>21.19</td>\n",
       "      <td></td>\n",
       "      <td></td>\n",
       "      <td></td>\n",
       "      <td></td>\n",
       "    </tr>\n",
       "    <tr>\n",
       "      <th>10</th>\n",
       "      <td>September</td>\n",
       "      <td>530</td>\n",
       "      <td>13.71</td>\n",
       "      <td></td>\n",
       "      <td></td>\n",
       "      <td></td>\n",
       "      <td></td>\n",
       "    </tr>\n",
       "    <tr>\n",
       "      <th>11</th>\n",
       "      <td>October</td>\n",
       "      <td>601</td>\n",
       "      <td>15.55</td>\n",
       "      <td></td>\n",
       "      <td></td>\n",
       "      <td></td>\n",
       "      <td></td>\n",
       "    </tr>\n",
       "  </tbody>\n",
       "</table>\n",
       "</div>"
      ],
      "text/plain": [
       "         Date  Active Users  % Registered Users Time Spend on Page Page Views  \\\n",
       "0    November           640               16.56                                 \n",
       "1    December           596               15.42                                 \n",
       "2     January           613               15.86                                 \n",
       "3    February           605               15.65                                 \n",
       "4       March           671               17.36                                 \n",
       "5       April           614               15.89                                 \n",
       "6         May           571               14.77                                 \n",
       "7        June           667               17.26                                 \n",
       "8        July           639               16.53                                 \n",
       "9      August           819               21.19                                 \n",
       "10  September           530               13.71                                 \n",
       "11    October           601               15.55                                 \n",
       "\n",
       "   Downloads Searches  \n",
       "0                      \n",
       "1                      \n",
       "2                      \n",
       "3                      \n",
       "4                      \n",
       "5                      \n",
       "6                      \n",
       "7                      \n",
       "8                      \n",
       "9                      \n",
       "10                     \n",
       "11                     "
      ]
     },
     "execution_count": 26,
     "metadata": {},
     "output_type": "execute_result"
    }
   ],
   "source": [
    "view_user_nov = pd.read_csv('views_user_nov.csv')\n",
    "view_user_dec = pd.read_csv('views_user_dec.csv')\n",
    "view_user_jan = pd.read_csv('views_user_jan.csv')\n",
    "view_user_feb = pd.read_csv('views_user_feb.csv')\n",
    "view_user_mar = pd.read_csv('views_user_mar.csv')\n",
    "view_user_apr = pd.read_csv('views_user_apr.csv')\n",
    "view_user_may = pd.read_csv('views_user_may.csv')\n",
    "view_user_jun = pd.read_csv('views_user_jun.csv')\n",
    "view_user_jul = pd.read_csv('views_user_jul.csv')\n",
    "view_user_aug = pd.read_csv('views_user_aug.csv')\n",
    "view_user_sep = pd.read_csv('views_user_sep.csv')\n",
    "view_user_oct = pd.read_csv('views_user_oct.csv')\n",
    "\n",
    "active_users_monthly = pd.DataFrame()\n",
    "active_users_monthly['Date'] = ['November','December','January','February','March','April','May','June','July','August','September','October']\n",
    "active_users_monthly['Active Users'] = [len(set(view_user_nov['User'])),len(set(view_user_dec['User'])),len(set(view_user_jan['User'])),\n",
    "                                        len(set(view_user_feb['User'])),len(set(view_user_mar['User'])), len(set(view_user_apr['User'])),\n",
    "                                        len(set(view_user_may['User'])),len(set(view_user_jun['User'])), len(set(view_user_jul['User'])),\n",
    "                                        len(set(view_user_aug['User'])),len(set(view_user_sep['User'])),len(set(view_user_oct['User']))]\n",
    "active_users_monthly['% Registered Users'] = round(active_users_monthly['Active Users']*100/len(fedcentral_users),2)\n",
    "\n",
    "active_users_monthly['Time Spend on Page'] = ''\n",
    "active_users_monthly['Page Views'] = ''\n",
    "active_users_monthly['Downloads'] = ''\n",
    "active_users_monthly['Searches'] = ''\n",
    "\n",
    "active_users_monthly"
   ]
  },
  {
   "cell_type": "code",
   "execution_count": 252,
   "metadata": {},
   "outputs": [
    {
     "data": {
      "text/plain": [
       "630.0"
      ]
     },
     "execution_count": 252,
     "metadata": {},
     "output_type": "execute_result"
    }
   ],
   "source": [
    "users_monthly = round(active_users_monthly['Active Users'].mean(),0)\n",
    "users_monthly "
   ]
  },
  {
   "cell_type": "code",
   "execution_count": 257,
   "metadata": {},
   "outputs": [
    {
     "data": {
      "text/plain": [
       "0.1630012936610608"
      ]
     },
     "execution_count": 257,
     "metadata": {},
     "output_type": "execute_result"
    }
   ],
   "source": [
    "round(active_users_monthly['Active Users'].mean(),0)/total_users"
   ]
  },
  {
   "cell_type": "markdown",
   "metadata": {},
   "source": [
    "The monthly average number of active users is 630. It's about 16.3% of all registered users."
   ]
  },
  {
   "cell_type": "code",
   "execution_count": 259,
   "metadata": {},
   "outputs": [
    {
     "data": {
      "image/png": "[encoded data removed]",
      "text/plain": [
       "<Figure size 864x504 with 1 Axes>"
      ]
     },
     "metadata": {},
     "output_type": "display_data"
    }
   ],
   "source": [
    "sns.set(style=\"ticks\")\n",
    "\n",
    "flatui = [\"#34495e\", \"#34495e\", \"#34495e\", \"#34495e\", \"#e74c3c\", \"#34495e\",\"#3498db\",\"#34495e\",\"#34495e\",\"#e74c3c\",\"#3498db\",\"#34495e\"]\n",
    "\n",
    "# This Function takes as input a custom palette\n",
    "g = sns.barplot(x=\"Date\", y=\"Active Users\", palette=sns.color_palette(flatui),data=active_users_monthly,ci=None)\n",
    "\n",
    "# remove the top and right line in graph\n",
    "sns.despine()\n",
    "\n",
    "# Set the size of the graph from here\n",
    "g.figure.set_size_inches(12,7)\n",
    "# Set the Title of the graph from here\n",
    "g.axes.set_title('Average Number of Active Users per Month',\n",
    "    fontsize=25,color=\"b\",alpha=0.5)\n",
    "# Set the xlabel of the graph from here\n",
    "g.set_xlabel(\"months\",size = 20,color=\"b\",alpha=0.5)\n",
    "# Set the ylabel of the graph from here\n",
    "g.set_ylabel(\"active users\",size = 20,color=\"b\",alpha=0.5)\n",
    "# Set the ticklabel size and color of the graph from here\n",
    "g.tick_params(labelsize=12,labelcolor=\"black\")"
   ]
  },
  {
   "cell_type": "code",
   "execution_count": 49,
   "metadata": {},
   "outputs": [
    {
     "data": {
      "text/html": [
       "<div>\n",
       "<style scoped>\n",
       "    .dataframe tbody tr th:only-of-type {\n",
       "        vertical-align: middle;\n",
       "    }\n",
       "\n",
       "    .dataframe tbody tr th {\n",
       "        vertical-align: top;\n",
       "    }\n",
       "\n",
       "    .dataframe thead th {\n",
       "        text-align: right;\n",
       "    }\n",
       "</style>\n",
       "<table border=\"1\" class=\"dataframe\">\n",
       "  <thead>\n",
       "    <tr style=\"text-align: right;\">\n",
       "      <th></th>\n",
       "      <th>Time Period</th>\n",
       "      <th>Average Active Users</th>\n",
       "      <th>% Registered Users</th>\n",
       "    </tr>\n",
       "  </thead>\n",
       "  <tbody>\n",
       "    <tr>\n",
       "      <th>0</th>\n",
       "      <td>Daily</td>\n",
       "      <td>198.0</td>\n",
       "      <td>1.38</td>\n",
       "    </tr>\n",
       "    <tr>\n",
       "      <th>1</th>\n",
       "      <td>Weekly</td>\n",
       "      <td>827.0</td>\n",
       "      <td>5.78</td>\n",
       "    </tr>\n",
       "    <tr>\n",
       "      <th>2</th>\n",
       "      <td>Monthly</td>\n",
       "      <td>2785.0</td>\n",
       "      <td>19.48</td>\n",
       "    </tr>\n",
       "  </tbody>\n",
       "</table>\n",
       "</div>"
      ],
      "text/plain": [
       "  Time Period  Average Active Users  % Registered Users\n",
       "0       Daily                 198.0                1.38\n",
       "1      Weekly                 827.0                5.78\n",
       "2     Monthly                2785.0               19.48"
      ]
     },
     "execution_count": 49,
     "metadata": {},
     "output_type": "execute_result"
    }
   ],
   "source": [
    "active_users_fedcentral = pd.DataFrame()\n",
    "active_users_fedcentral['Time Period'] = ['Daily','Weekly','Monthly']\n",
    "\n",
    "views1_date = pd.read_csv('views1_date.csv')\n",
    "views2_date = pd.read_csv('views2_date.csv')\n",
    "views3_date = pd.read_csv('views3_date.csv')\n",
    "views4_date = pd.read_csv('views4_date.csv')\n",
    "views5_date = pd.read_csv('views5_date.csv')\n",
    "views6_date = pd.read_csv('views6_date.csv')\n",
    "views8_date = pd.read_csv('views8_date.csv')\n",
    "views9_date = pd.read_csv('views9_date.csv')\n",
    "views10_date = pd.read_csv('views10_date.csv')\n",
    "\n",
    "views_date = pd.concat([views1_date,views2_date,views3_date,views4_date,views5_date,views6_date,views8_date,views9_date,views10_date])\n",
    "views_date['Date'] = pd.to_datetime(views_date['Date'], format='%Y%m%d')\n",
    "views_date.set_index('Date',inplace=True)\n",
    "\n",
    "views1_user = pd.read_csv('views1_user.csv')\n",
    "views2_user = pd.read_csv('views2_user.csv')\n",
    "views3_user = pd.read_csv('views3_user.csv')\n",
    "views4_user = pd.read_csv('views4_user.csv')\n",
    "views5_user = pd.read_csv('views5_user.csv')\n",
    "views6_user = pd.read_csv('views6_user.csv')\n",
    "views8_user = pd.read_csv('views8_user.csv')\n",
    "views9_user = pd.read_csv('views9_user.csv')\n",
    "\n",
    "views_user = pd.concat([views1_user,views2_user,views3_user,views4_user,views5_user,views6_user,views8_user,views9_user])\n",
    "\n",
    "active_users_fedcentral['Average Active Users'] = [users_daily,users_weekly,users_monthly]\n",
    "active_users_fedcentral['% Registered Users'] = round(active_users_fedcentral['Average Active Users']/len(total_registered_fed),2)\n",
    "active_users_fedcentral\n"
   ]
  },
  {
   "cell_type": "markdown",
   "metadata": {},
   "source": [
    "#### Percent of Federations using FedCentral"
   ]
  },
  {
   "cell_type": "code",
   "execution_count": 51,
   "metadata": {},
   "outputs": [
    {
     "name": "stdout",
     "output_type": "stream",
     "text": [
      "143\n",
      "139\n",
      "97.0\n"
     ]
    }
   ],
   "source": [
    "print(len(total_registered_fed))\n",
    "total_active_registered_fed = set(fedcentral_users_by_federation[(fedcentral_users['Last Login']>'2017/11/01') & (fedcentral_users_by_federation['type']=='yes')]['Federation'])\n",
    "print(len(total_active_registered_fed))\n",
    "print(round(len(total_active_registered_fed)*100/len(total_registered_fed),0))"
   ]
  },
  {
   "cell_type": "markdown",
   "metadata": {},
   "source": [
    "Users from 143 federations are registered on FedCentral. Users from 139 federations were active (logged in at least ones within the past year) on FedCentral within the past year. It means that 97% of registered federations used FedCentral within the past year. Federations that weren't active within the past year are displayed below:"
   ]
  },
  {
   "cell_type": "code",
   "execution_count": 52,
   "metadata": {},
   "outputs": [
    {
     "name": "stdout",
     "output_type": "stream",
     "text": [
      "Jewish Federation of Tulsa\n",
      "Jewish Federation of Sioux City\n",
      "Champaign-Urbana Jewish Federation\n",
      "Jewish Federation of New Mexico\n"
     ]
    }
   ],
   "source": [
    "for fed in total_registered_fed:\n",
    "    if fed not in total_active_registered_fed:\n",
    "        print(fed)"
   ]
  },
  {
   "cell_type": "code",
   "execution_count": 53,
   "metadata": {},
   "outputs": [
    {
     "name": "stdout",
     "output_type": "stream",
     "text": [
      "45\n",
      "36\n",
      "80.0\n"
     ]
    }
   ],
   "source": [
    "total_registered_net = set(fedcentral_users_by_federation[fedcentral_users_by_federation['type']=='no']['Federation'])\n",
    "print(len(total_registered_net))\n",
    "total_active_registered_net = set(fedcentral_users_by_federation[(fedcentral_users['Last Login']>'2017/11/01') & (fedcentral_users_by_federation['type']=='no')]['Federation'])\n",
    "print(len(total_active_registered_net))\n",
    "print(round(len(total_active_registered_net)/len(total_registered_net)*100,0))"
   ]
  },
  {
   "cell_type": "code",
   "execution_count": 54,
   "metadata": {},
   "outputs": [
    {
     "name": "stdout",
     "output_type": "stream",
     "text": [
      "OREGON\n",
      "NEW HAMPSHIRE\n",
      "Ithaca Area United Jewish Community\n",
      "North Louisiana Jewish Federation\n",
      "AIKEN\n",
      "CENTRAL MICHIGAN\n",
      "Jewish Federation of Broome County\n",
      "Federated Jewish Charities of Charleston\n",
      "JCC-Federation of San Luis Obispo\n"
     ]
    }
   ],
   "source": [
    "for net in total_registered_net:\n",
    "    if net not in total_active_registered_net:\n",
    "        print(net)"
   ]
  },
  {
   "cell_type": "code",
   "execution_count": 55,
   "metadata": {},
   "outputs": [
    {
     "data": {
      "text/html": [
       "<div>\n",
       "<style scoped>\n",
       "    .dataframe tbody tr th:only-of-type {\n",
       "        vertical-align: middle;\n",
       "    }\n",
       "\n",
       "    .dataframe tbody tr th {\n",
       "        vertical-align: top;\n",
       "    }\n",
       "\n",
       "    .dataframe thead th {\n",
       "        text-align: right;\n",
       "    }\n",
       "</style>\n",
       "<table border=\"1\" class=\"dataframe\">\n",
       "  <thead>\n",
       "    <tr style=\"text-align: right;\">\n",
       "      <th></th>\n",
       "      <th>category</th>\n",
       "      <th># registered</th>\n",
       "      <th>% registered</th>\n",
       "      <th># active past year</th>\n",
       "      <th>% active past year</th>\n",
       "    </tr>\n",
       "  </thead>\n",
       "  <tbody>\n",
       "    <tr>\n",
       "      <th>0</th>\n",
       "      <td>Users</td>\n",
       "      <td>3865</td>\n",
       "      <td>NaN</td>\n",
       "      <td>NaN</td>\n",
       "      <td>NaN</td>\n",
       "    </tr>\n",
       "    <tr>\n",
       "      <th>1</th>\n",
       "      <td>Ferderations</td>\n",
       "      <td>143</td>\n",
       "      <td>99.31</td>\n",
       "      <td>139</td>\n",
       "      <td>97.2</td>\n",
       "    </tr>\n",
       "    <tr>\n",
       "      <th>2</th>\n",
       "      <td>Newtworks</td>\n",
       "      <td>45</td>\n",
       "      <td>15.25</td>\n",
       "      <td>36</td>\n",
       "      <td>80</td>\n",
       "    </tr>\n",
       "  </tbody>\n",
       "</table>\n",
       "</div>"
      ],
      "text/plain": [
       "       category  # registered % registered # active past year  \\\n",
       "0         Users          3865          NaN                NaN   \n",
       "1  Ferderations           143        99.31                139   \n",
       "2     Newtworks            45        15.25                 36   \n",
       "\n",
       "  % active past year  \n",
       "0                NaN  \n",
       "1               97.2  \n",
       "2                 80  "
      ]
     },
     "execution_count": 55,
     "metadata": {},
     "output_type": "execute_result"
    }
   ],
   "source": [
    "users_fedcentral = pd.DataFrame(columns=['category','# registered','% registered','# active past year','% active past year'])\n",
    "users_fedcentral['category'] = ['Users','Ferderations','Newtworks']\n",
    "users_fedcentral['# registered'] = [total_users,len(total_registered_fed),len(total_registered_net)]\n",
    "users_fedcentral['% registered'] = ['NaN', round(len(total_registered_fed)*100/len(federations_fed),2),round(len(total_registered_net)*100/len(federations_net),2)]\n",
    "users_fedcentral['# active past year'] = ['NaN',len(total_active_registered_fed),len(total_active_registered_net)]\n",
    "users_fedcentral['% active past year'] = ['NaN',round(len(total_active_registered_fed)*100/len(total_registered_fed),2),round(len(total_active_registered_net)*100/len(total_registered_net),2)]\n",
    "users_fedcentral"
   ]
  },
  {
   "cell_type": "markdown",
   "metadata": {},
   "source": [
    "#### Page views, assets downloads, assets views and searches"
   ]
  },
  {
   "cell_type": "code",
   "execution_count": 122,
   "metadata": {},
   "outputs": [
    {
     "name": "stderr",
     "output_type": "stream",
     "text": [
      "/Users/olyafomicheva/anaconda3/lib/python3.6/site-packages/ipykernel_launcher.py:50: FutureWarning: Sorting because non-concatenation axis is not aligned. A future version\n",
      "of pandas will change to not sort by default.\n",
      "\n",
      "To accept the future behavior, pass 'sort=True'.\n",
      "\n",
      "To retain the current behavior and silence the warning, pass sort=False\n",
      "\n"
     ]
    },
    {
     "data": {
      "text/html": [
       "<div>\n",
       "<style scoped>\n",
       "    .dataframe tbody tr th:only-of-type {\n",
       "        vertical-align: middle;\n",
       "    }\n",
       "\n",
       "    .dataframe tbody tr th {\n",
       "        vertical-align: top;\n",
       "    }\n",
       "\n",
       "    .dataframe thead th {\n",
       "        text-align: right;\n",
       "    }\n",
       "</style>\n",
       "<table border=\"1\" class=\"dataframe\">\n",
       "  <thead>\n",
       "    <tr style=\"text-align: right;\">\n",
       "      <th></th>\n",
       "      <th>Event Type</th>\n",
       "      <th>Total Past Year</th>\n",
       "      <th>Monthly Average</th>\n",
       "      <th># users Past Year</th>\n",
       "      <th># federations</th>\n",
       "      <th>% federations</th>\n",
       "      <th>#networks</th>\n",
       "      <th>% networks</th>\n",
       "    </tr>\n",
       "  </thead>\n",
       "  <tbody>\n",
       "    <tr>\n",
       "      <th>0</th>\n",
       "      <td>page views</td>\n",
       "      <td>185791</td>\n",
       "      <td>15482.58</td>\n",
       "      <td>1784</td>\n",
       "      <td>142</td>\n",
       "      <td>99.30</td>\n",
       "      <td>38</td>\n",
       "      <td>84.00</td>\n",
       "    </tr>\n",
       "    <tr>\n",
       "      <th>1</th>\n",
       "      <td>assets downloads</td>\n",
       "      <td>24155</td>\n",
       "      <td>1855.17</td>\n",
       "      <td>1289</td>\n",
       "      <td>139</td>\n",
       "      <td>97.20</td>\n",
       "      <td>36</td>\n",
       "      <td>80.00</td>\n",
       "    </tr>\n",
       "    <tr>\n",
       "      <th>2</th>\n",
       "      <td>assets downloads + views</td>\n",
       "      <td>57622</td>\n",
       "      <td>4644.09</td>\n",
       "      <td>2708</td>\n",
       "      <td>141</td>\n",
       "      <td>98.60</td>\n",
       "      <td>37</td>\n",
       "      <td>82.22</td>\n",
       "    </tr>\n",
       "    <tr>\n",
       "      <th>3</th>\n",
       "      <td>searches</td>\n",
       "      <td>44314</td>\n",
       "      <td>3692.83</td>\n",
       "      <td>1036</td>\n",
       "      <td>133</td>\n",
       "      <td>93.01</td>\n",
       "      <td>31</td>\n",
       "      <td>68.89</td>\n",
       "    </tr>\n",
       "  </tbody>\n",
       "</table>\n",
       "</div>"
      ],
      "text/plain": [
       "                 Event Type  Total Past Year  Monthly Average  \\\n",
       "0                page views           185791         15482.58   \n",
       "1          assets downloads            24155          1855.17   \n",
       "2  assets downloads + views            57622          4644.09   \n",
       "3                  searches            44314          3692.83   \n",
       "\n",
       "   # users Past Year  # federations  % federations  #networks  % networks  \n",
       "0               1784            142          99.30         38       84.00  \n",
       "1               1289            139          97.20         36       80.00  \n",
       "2               2708            141          98.60         37       82.22  \n",
       "3               1036            133          93.01         31       68.89  "
      ]
     },
     "execution_count": 122,
     "metadata": {},
     "output_type": "execute_result"
    }
   ],
   "source": [
    "views1_fed = pd.read_csv('views1_fed.csv')\n",
    "views2_fed = pd.read_csv('views2_fed.csv')\n",
    "views3_fed = pd.read_csv('views3_fed.csv')\n",
    "views4_fed = pd.read_csv('views4_fed.csv')\n",
    "views5_fed = pd.read_csv('views5_fed.csv')\n",
    "views6_fed = pd.read_csv('views6_fed.csv')\n",
    "views7_fed = pd.read_csv('views7_fed.csv')\n",
    "views8_fed = pd.read_csv('views8_fed.csv')\n",
    "views_fed = pd.concat([views1_fed,views2_fed,views3_fed,views4_fed,views5_fed,views6_fed,views7_fed,views8_fed])\n",
    "views_fed = pd.merge(views_fed,federations[['code','name','type']],how='left',left_on = 'User Organization', right_on = 'code')\n",
    "views_fed_fed = views_fed[views_fed['type']=='yes']['User Organization']\n",
    "views_fed_net = views_fed[views_fed['type']=='no']['User Organization']\n",
    "\n",
    "searches1_fed = pd.read_csv('searches1_fed.csv')\n",
    "searches2_fed = pd.read_csv('searches2_fed.csv')\n",
    "searches3_fed = pd.read_csv('searches3_fed.csv')\n",
    "searches4_fed = pd.read_csv('searches4_fed.csv')\n",
    "searches5_fed = pd.read_csv('searches5_fed.csv')\n",
    "searches6_fed = pd.read_csv('searches6_fed.csv')\n",
    "searches7_fed = pd.read_csv('searches7_fed.csv')\n",
    "searches8_fed = pd.read_csv('searches8_fed.csv')\n",
    "searches9_fed = pd.read_csv('searches9_fed.csv')\n",
    "searches10_fed = pd.read_csv('searches10_fed.csv')\n",
    "searches11_fed = pd.read_csv('searches11_fed.csv')\n",
    "searches_fed = pd.concat([searches1_fed,searches2_fed,searches3_fed,searches4_fed,searches5_fed,searches6_fed,\n",
    "                         searches7_fed,searches8_fed,searches9_fed,searches10_fed,searches11_fed])\n",
    "#searches_fed = searches_fed[searches_fed['Event Label']!='(not set)']\n",
    "searches_fed = pd.merge(searches_fed,federations[['code','name','type']],how='left',left_on = 'User Organization', right_on = 'code')\n",
    "searches_fed_fed = searches_fed[searches_fed['type']=='yes']['User Organization']\n",
    "searches_fed_net = searches_fed[searches_fed['type']=='no']['User Organization']\n",
    "\n",
    "\n",
    "downloads1_fed = pd.read_csv('downloads1_fed.csv')\n",
    "downloads2_fed = pd.read_csv('downloads2_fed.csv')\n",
    "downloads3_fed = pd.read_csv('downloads3_fed.csv')\n",
    "downloads4_fed = pd.read_csv('downloads4_fed.csv')\n",
    "downloads_fed = pd.concat([downloads1_fed,downloads2_fed,downloads3_fed,downloads4_fed])\n",
    "downloads_fed = pd.merge(downloads_fed,federations[['code','name','type']],how='left',left_on = 'User Organization', right_on = 'code')\n",
    "downloads_fed_fed = downloads_fed[downloads_fed['type']=='yes']['User Organization']\n",
    "downloads_fed_net = downloads_fed[downloads_fed['type']=='no']['User Organization']\n",
    "\n",
    "\n",
    "active_users_fedcentral = pd.DataFrame()\n",
    "active_users_fedcentral['Time Period'] = ['Daily','Weekly','Monthly']\n",
    "\n",
    "downloads1_date = pd.read_csv('downloads1_date.csv')\n",
    "downloads2_date = pd.read_csv('downloads2_date.csv')\n",
    "downloads3_date = pd.read_csv('downloads3_date.csv')\n",
    "downloads4_date = pd.read_csv('downloads4_date.csv')\n",
    "downloads_date = pd.concat([downloads1_date,downloads2_date,downloads3_date,downloads4_date])\n",
    "downloads_date['Date'] = pd.to_datetime(downloads_date['Date'], format='%Y%m%d')\n",
    "downloads_date.set_index('Date',inplace=True)\n",
    "\n",
    "searches1_date = pd.read_csv('searches1_date.csv')\n",
    "searches2_date = pd.read_csv('searches2_date.csv')\n",
    "searches3_date = pd.read_csv('searches3_date.csv')\n",
    "searches4_date = pd.read_csv('searches4_date.csv')\n",
    "searches5_date = pd.read_csv('searches5_date.csv')\n",
    "searches6_date = pd.read_csv('searches6_date.csv')\n",
    "searches7_date = pd.read_csv('searches7_date.csv')\n",
    "searches8_date = pd.read_csv('searches8_date.csv')\n",
    "searches9_date = pd.read_csv('searches9_date.csv')\n",
    "searches10_date = pd.read_csv('searches10_date.csv')\n",
    "searches11_date = pd.read_csv('searches11_date.csv')\n",
    "\n",
    "searches_date = pd.concat([searches1_date,searches2_date,searches3_date,searches4_date,searches5_date,searches6_date,\n",
    "                          searches7_date,searches8_date,searches9_date,searches10_date,searches11_date])\n",
    "searches_date = searches_date[searches_date['Event Label']!='(not set)']\n",
    "searches_date['Date'] = pd.to_datetime(searches_date['Date'], format='%Y%m%d')\n",
    "searches_date.set_index('Date',inplace=True)\n",
    "\n",
    "downloads1_user = pd.read_csv('downloads1_user.csv')\n",
    "downloads2_user = pd.read_csv('downloads2_user.csv')\n",
    "downloads3_user = pd.read_csv('downloads3_user.csv')\n",
    "downloads4_user = pd.read_csv('downloads4_user.csv')\n",
    "downloads5_user = pd.read_csv('downloads5_user.csv')\n",
    "downloads_user = pd.concat([downloads1_user,downloads2_user,downloads3_user,downloads4_user,downloads5_user])\n",
    "\n",
    "searches1_user = pd.read_csv('searches1_user.csv')\n",
    "searches2_user = pd.read_csv('searches2_user.csv')\n",
    "searches3_user = pd.read_csv('searches3_user.csv')\n",
    "searches4_user = pd.read_csv('searches4_user.csv')\n",
    "searches5_user = pd.read_csv('searches5_user.csv')\n",
    "searches6_user = pd.read_csv('searches6_user.csv')\n",
    "searches7_user = pd.read_csv('searches7_user.csv')\n",
    "searches8_user = pd.read_csv('searches8_user.csv')\n",
    "searches9_user = pd.read_csv('searches9_user.csv')\n",
    "searches10_user = pd.read_csv('searches10_user.csv')\n",
    "searches11_user = pd.read_csv('searches11_user.csv')\n",
    "searches_user = pd.concat([searches1_user, searches2_user, searches3_user,searches4_user,searches5_user,searches6_user,\n",
    "                           searches7_user,searches8_user,searches9_user,searches10_user,searches11_user])\n",
    "\n",
    "\n",
    "table1 = pd.DataFrame(columns=['Event Type','Total Past Year','Monthly Average','# users Past Year','# federations','% federations','#networks','% networks'])\n",
    "table1['Event Type'] = ['page views','assets downloads','assets downloads + views','searches']\n",
    "table1['Total Past Year'] = [views_date['Pageviews'].sum(),downloads_date['Total Events'].sum(),\n",
    "                             views_date[views_date['Page'].str.contains('/view')]['Pageviews'].sum()+downloads_date['Total Events'].sum(),\n",
    "                             searches_date['Total Events'].sum()]\n",
    "table1['Monthly Average'] = [round(views_date.resample('M')['Pageviews'].sum().mean(),2),round(downloads_date.resample('M')['Total Events'].sum().mean(),2),\n",
    "                             round(downloads_date.resample('M')['Total Events'].sum().mean(),2)+round(views_date[views_date['Page'].str.contains('/view')].resample('M')['Pageviews'].sum().mean(),2),\n",
    "                             round(searches_date.resample('M')['Total Events'].sum().mean(),2)]\n",
    "table1['# users Past Year'] = [len(set(views_user['User'])),len(set(downloads_user['User'])),\n",
    "                               len(set(downloads_user['User']))+len(set(views_user[views_user['Page'].str.contains('/view')]['User'])),\n",
    "                               len(set(searches_user['User']))]\n",
    "table1['# federations'] = [len(set(views_fed_fed)),len(set(downloads_fed_fed)),\n",
    "                           len(set(pd.concat([views_fed[(views_fed['Page'].str.contains('/view')) & (views_fed['type']=='yes')]['User Organization'],downloads_fed_fed]))),\n",
    "                           len(set(searches_fed_fed))]\n",
    "table1['% federations'] = [round(len(set(views_fed_fed))*100/len(total_registered_fed),2),round(len(set(downloads_fed_fed))*100/len(total_registered_fed),2),\n",
    "                           round(len(set(pd.concat([views_fed[(views_fed['Page'].str.contains('/view')) & (views_fed['type']=='yes')]['User Organization'],downloads_fed_fed])))*100/len(total_registered_fed),2),\n",
    "                           round(len(set(searches_fed_fed))*100/len(total_registered_fed),2)]\n",
    "table1['#networks'] = [len(set(views_fed_net)),len(set(downloads_fed_net)),\n",
    "                       len(set(pd.concat([views_fed[(views_fed['Page'].str.contains('/view')) & (views_fed['type']=='no')]['User Organization'],downloads_fed_net]))),\n",
    "                       len(set(searches_fed_net))]\n",
    "table1['% networks'] = [round(len(set(views_fed_net))*100/len(total_registered_net)),round(len(set(downloads_fed_net))*100/len(total_registered_net),2),\n",
    "                        round(len(set(pd.concat([views_fed[(views_fed['Page'].str.contains('/view')) & (views_fed['type']=='no')]['User Organization'],\n",
    "                                                 downloads_fed_net])))*100/len(total_registered_net),2),round(len(set(searches_fed_net))*100/len(total_registered_net),2)]\n",
    "table1"
   ]
  },
  {
   "cell_type": "code",
   "execution_count": 223,
   "metadata": {},
   "outputs": [
    {
     "data": {
      "text/html": [
       "<div>\n",
       "<style scoped>\n",
       "    .dataframe tbody tr th:only-of-type {\n",
       "        vertical-align: middle;\n",
       "    }\n",
       "\n",
       "    .dataframe tbody tr th {\n",
       "        vertical-align: top;\n",
       "    }\n",
       "\n",
       "    .dataframe thead th {\n",
       "        text-align: right;\n",
       "    }\n",
       "</style>\n",
       "<table border=\"1\" class=\"dataframe\">\n",
       "  <thead>\n",
       "    <tr style=\"text-align: right;\">\n",
       "      <th></th>\n",
       "      <th>platform</th>\n",
       "      <th># active users</th>\n",
       "      <th>% registered</th>\n",
       "    </tr>\n",
       "  </thead>\n",
       "  <tbody>\n",
       "    <tr>\n",
       "      <th>0</th>\n",
       "      <td>FedCentral (views + downloads + searches)</td>\n",
       "      <td>1838</td>\n",
       "      <td>47.55</td>\n",
       "    </tr>\n",
       "    <tr>\n",
       "      <th>1</th>\n",
       "      <td>Bloomfire</td>\n",
       "      <td>1518</td>\n",
       "      <td>39.28</td>\n",
       "    </tr>\n",
       "    <tr>\n",
       "      <th>2</th>\n",
       "      <td>FedCentral + Bloomfire</td>\n",
       "      <td>3089</td>\n",
       "      <td>79.92</td>\n",
       "    </tr>\n",
       "  </tbody>\n",
       "</table>\n",
       "</div>"
      ],
      "text/plain": [
       "                                    platform  # active users  % registered\n",
       "0  FedCentral (views + downloads + searches)            1838         47.55\n",
       "1                                  Bloomfire            1518         39.28\n",
       "2                     FedCentral + Bloomfire            3089         79.92"
      ]
     },
     "execution_count": 223,
     "metadata": {},
     "output_type": "execute_result"
    }
   ],
   "source": [
    "active_users_fedweb_bloomfire = pd.DataFrame()\n",
    "active_users_fedweb_bloomfire['platform'] = ['FedCentral (views + downloads + searches)','Bloomfire','FedCentral + Bloomfire']\n",
    "fedweb_active = set(fedcentral_users[fedcentral_users['Last Login']<'1/1/2018']['Email'].str.lower())\n",
    "active_bloom = set(members_bloomfire['Email'].str.lower())\n",
    "active_users_fedweb_bloomfire['# active users'] = [len(fedweb_active),\n",
    "                                             len(active_bloom),\n",
    "                                             len(set(active_bloom.union(fedweb_active)))]\n",
    "active_users_fedweb_bloomfire['% registered'] = [len(fedweb_active)/len(fedcentral_users),len(active_bloom)/len(fedcentral_users),len(active_bloom.union(fedweb_active))/len(fedcentral_users)]  \n",
    "active_users_fedweb_bloomfire['% registered'] = round(active_users_fedweb_bloomfire['% registered']*100,2)\n",
    "active_users_fedweb_bloomfire                                                                                         \n",
    "                                                                                                                                    "
   ]
  },
  {
   "cell_type": "markdown",
   "metadata": {},
   "source": [
    "### Bloomfire"
   ]
  },
  {
   "cell_type": "markdown",
   "metadata": {},
   "source": [
    "#### Bloomfire users"
   ]
  },
  {
   "cell_type": "code",
   "execution_count": 202,
   "metadata": {},
   "outputs": [],
   "source": [
    "members_bloomfire = pd.read_csv('members_bloomfire.csv')\n",
    "members_bloomfire_by_federation = pd.merge(members_bloomfire, federations[['name','code','type']], how='left',left_on = 'Organization', right_on = 'name')"
   ]
  },
  {
   "cell_type": "code",
   "execution_count": 227,
   "metadata": {},
   "outputs": [
    {
     "name": "stdout",
     "output_type": "stream",
     "text": [
      "1518\n",
      "0.39275549805950843\n"
     ]
    }
   ],
   "source": [
    "print(len(members_bloomfire))\n",
    "print(len(members_bloomfire)/total_users)"
   ]
  },
  {
   "cell_type": "markdown",
   "metadata": {},
   "source": [
    "1518 FedCentral members were active in Bloomfire withen the past year. It's 39.28% percent of total FedCentral users."
   ]
  },
  {
   "cell_type": "code",
   "execution_count": 14,
   "metadata": {},
   "outputs": [
    {
     "data": {
      "text/html": [
       "<div>\n",
       "<style scoped>\n",
       "    .dataframe tbody tr th:only-of-type {\n",
       "        vertical-align: middle;\n",
       "    }\n",
       "\n",
       "    .dataframe tbody tr th {\n",
       "        vertical-align: top;\n",
       "    }\n",
       "\n",
       "    .dataframe thead th {\n",
       "        text-align: right;\n",
       "    }\n",
       "</style>\n",
       "<table border=\"1\" class=\"dataframe\">\n",
       "  <thead>\n",
       "    <tr style=\"text-align: right;\">\n",
       "      <th></th>\n",
       "      <th>Date</th>\n",
       "      <th>Active Users</th>\n",
       "      <th>% Registered Users</th>\n",
       "    </tr>\n",
       "  </thead>\n",
       "  <tbody>\n",
       "    <tr>\n",
       "      <th>0</th>\n",
       "      <td>November</td>\n",
       "      <td>546</td>\n",
       "      <td>14.13</td>\n",
       "    </tr>\n",
       "    <tr>\n",
       "      <th>1</th>\n",
       "      <td>December</td>\n",
       "      <td>691</td>\n",
       "      <td>17.88</td>\n",
       "    </tr>\n",
       "    <tr>\n",
       "      <th>2</th>\n",
       "      <td>January</td>\n",
       "      <td>625</td>\n",
       "      <td>16.17</td>\n",
       "    </tr>\n",
       "    <tr>\n",
       "      <th>3</th>\n",
       "      <td>February</td>\n",
       "      <td>626</td>\n",
       "      <td>16.20</td>\n",
       "    </tr>\n",
       "    <tr>\n",
       "      <th>4</th>\n",
       "      <td>March</td>\n",
       "      <td>458</td>\n",
       "      <td>11.85</td>\n",
       "    </tr>\n",
       "    <tr>\n",
       "      <th>5</th>\n",
       "      <td>April</td>\n",
       "      <td>592</td>\n",
       "      <td>15.32</td>\n",
       "    </tr>\n",
       "    <tr>\n",
       "      <th>6</th>\n",
       "      <td>May</td>\n",
       "      <td>485</td>\n",
       "      <td>12.55</td>\n",
       "    </tr>\n",
       "    <tr>\n",
       "      <th>7</th>\n",
       "      <td>June</td>\n",
       "      <td>517</td>\n",
       "      <td>13.38</td>\n",
       "    </tr>\n",
       "    <tr>\n",
       "      <th>8</th>\n",
       "      <td>July</td>\n",
       "      <td>570</td>\n",
       "      <td>14.75</td>\n",
       "    </tr>\n",
       "    <tr>\n",
       "      <th>9</th>\n",
       "      <td>August</td>\n",
       "      <td>526</td>\n",
       "      <td>13.61</td>\n",
       "    </tr>\n",
       "    <tr>\n",
       "      <th>10</th>\n",
       "      <td>September</td>\n",
       "      <td>611</td>\n",
       "      <td>15.81</td>\n",
       "    </tr>\n",
       "    <tr>\n",
       "      <th>11</th>\n",
       "      <td>October</td>\n",
       "      <td>413</td>\n",
       "      <td>10.69</td>\n",
       "    </tr>\n",
       "  </tbody>\n",
       "</table>\n",
       "</div>"
      ],
      "text/plain": [
       "         Date  Active Users  % Registered Users\n",
       "0    November           546               14.13\n",
       "1    December           691               17.88\n",
       "2     January           625               16.17\n",
       "3    February           626               16.20\n",
       "4       March           458               11.85\n",
       "5       April           592               15.32\n",
       "6         May           485               12.55\n",
       "7        June           517               13.38\n",
       "8        July           570               14.75\n",
       "9      August           526               13.61\n",
       "10  September           611               15.81\n",
       "11    October           413               10.69"
      ]
     },
     "execution_count": 14,
     "metadata": {},
     "output_type": "execute_result"
    }
   ],
   "source": [
    "member_bloomfire_nov = pd.read_csv('member_bloomfire_nov.csv')\n",
    "member_bloomfire_dec = pd.read_csv('member_bloomfire_dec.csv')\n",
    "member_bloomfire_jan = pd.read_csv('member_bloomfire_jan.csv')\n",
    "member_bloomfire_feb = pd.read_csv('member_bloomfire_feb.csv')\n",
    "member_bloomfire_mar = pd.read_csv('member_bloomfire_mar.csv')\n",
    "member_bloomfire_apr = pd.read_csv('member_bloomfire_apr.csv')\n",
    "member_bloomfire_may = pd.read_csv('member_bloomfire_may.csv')\n",
    "member_bloomfire_jun = pd.read_csv('member_bloomfire_jun.csv')\n",
    "member_bloomfire_jul = pd.read_csv('member_bloomfire_jul.csv')\n",
    "member_bloomfire_aug = pd.read_csv('member_bloomfire_aug.csv')\n",
    "member_bloomfire_sep = pd.read_csv('member_bloomfire_sep.csv')\n",
    "member_bloomfire_oct = pd.read_csv('member_bloomfire_oct.csv')\n",
    "\n",
    "bloomfire_active_users_monthly = pd.DataFrame()\n",
    "bloomfire_active_users_monthly['Date'] = ['November','December','January','February','March','April','May','June','July','August','September','October']\n",
    "bloomfire_active_users_monthly['Active Users'] = [len(set(member_bloomfire_nov['Email'])),len(set(member_bloomfire_dec['Email'])),len(set(member_bloomfire_jan['Email'])),\n",
    "                                        len(set(member_bloomfire_feb['Email'])),len(set(member_bloomfire_mar['Email'])), len(set(member_bloomfire_apr['Email'])),\n",
    "                                        len(set(member_bloomfire_may['Email'])),len(set(member_bloomfire_jun['Email'])), len(set(member_bloomfire_jul['Email'])),\n",
    "                                        len(set(member_bloomfire_aug['Email'])),len(set(member_bloomfire_sep['Email'])),len(set(member_bloomfire_oct['Email']))]\n",
    "bloomfire_active_users_monthly['% Registered Users'] = round(bloomfire_active_users_monthly['Active Users']*100/total_users,2)\n",
    "bloomfire_active_users_monthly"
   ]
  },
  {
   "cell_type": "code",
   "execution_count": 18,
   "metadata": {},
   "outputs": [
    {
     "data": {
      "image/png": "[encoded data removed]",
      "text/plain": [
       "<Figure size 864x504 with 1 Axes>"
      ]
     },
     "metadata": {},
     "output_type": "display_data"
    }
   ],
   "source": [
    "sns.set(style=\"ticks\")\n",
    "\n",
    "flatui = [\"#34495e\", \"#e74c3c\", \"#34495e\", \"#34495e\", \"#3498db\", \"#34495e\",\"#34495e\",\"#34495e\",\"#34495e\",\"#34495e\",\"#34495e\",\"#3498db\"]\n",
    "\n",
    "# This Function takes as input a custom palette\n",
    "g = sns.barplot(x=\"Date\", y=\"Active Users\", palette=sns.color_palette(flatui),data=bloomfire_active_users_monthly,ci=None)\n",
    "\n",
    "# remove the top and right line in graph\n",
    "sns.despine()\n",
    "\n",
    "# Set the size of the graph from here\n",
    "g.figure.set_size_inches(12,7)\n",
    "# Set the Title of the graph from here\n",
    "g.axes.set_title('Average Number of Active Users per Month',\n",
    "    fontsize=25,color=\"b\",alpha=0.5)\n",
    "# Set the xlabel of the graph from here\n",
    "g.set_xlabel(\"months\",size = 20,color=\"b\",alpha=0.5)\n",
    "# Set the ylabel of the graph from here\n",
    "g.set_ylabel(\"active users\",size = 20,color=\"b\",alpha=0.5)\n",
    "# Set the ticklabel size and color of the graph from here\n",
    "g.tick_params(labelsize=12,labelcolor=\"black\")"
   ]
  },
  {
   "cell_type": "code",
   "execution_count": 60,
   "metadata": {},
   "outputs": [
    {
     "name": "stdout",
     "output_type": "stream",
     "text": [
      "133\n",
      "93.01\n"
     ]
    }
   ],
   "source": [
    "members_bloomfire_by_federation_fed = set(members_bloomfire_by_federation[members_bloomfire_by_federation['type']=='yes']['Organization'])\n",
    "print(len(members_bloomfire_by_federation_fed))\n",
    "print(round(len(members_bloomfire_by_federation_fed)/len(total_registered_fed)*100,2))"
   ]
  },
  {
   "cell_type": "markdown",
   "metadata": {},
   "source": [
    "Users from 133 federations were active (logged in at least ones within the past year) in Bloomfire within the past year. It means that 94% of registered federations used FedCentral within the past year. Federations that weren't active in Bloomfire within the past year are displayed below:"
   ]
  },
  {
   "cell_type": "code",
   "execution_count": 61,
   "metadata": {},
   "outputs": [
    {
     "name": "stdout",
     "output_type": "stream",
     "text": [
      "The Jewish Federation of Raleigh-Cary\n",
      "Jewish Federation of Volusia & Flagler Counties\n",
      "Jewish Community Federation of the Mohawk Valley\n",
      "Jewish Federation of Sioux City\n",
      "Merrimack Valley Jewish Federation\n",
      "Flint Jewish Federation\n",
      "Jewish Federation of Greater New Bedford\n",
      "Jewish Federation of Greater Des Moines\n",
      "Jewish Federation of the Quad Cities\n",
      "Windsor Jewish Federation\n"
     ]
    }
   ],
   "source": [
    "for fed in total_registered_fed:\n",
    "    if fed not in members_bloomfire_by_federation_fed:\n",
    "        print(fed)"
   ]
  },
  {
   "cell_type": "code",
   "execution_count": 62,
   "metadata": {},
   "outputs": [
    {
     "name": "stdout",
     "output_type": "stream",
     "text": [
      "29\n",
      "64.44\n"
     ]
    }
   ],
   "source": [
    "members_bloomfire_by_federation_net = set(members_bloomfire_by_federation[members_bloomfire_by_federation['type']=='no']['Organization'])\n",
    "print(len(members_bloomfire_by_federation_net))\n",
    "print(round(len(members_bloomfire_by_federation_net)/len(total_registered_net)*100,2))"
   ]
  },
  {
   "cell_type": "markdown",
   "metadata": {},
   "source": [
    "Users from 29 networks were active (logged in at least ones within the past year) in Bloomfire within the past year. It means that 64% of registered federations used FedCentral within the past year. Networks that weren't active in Bloomfire within the past year are displayed below:"
   ]
  },
  {
   "cell_type": "code",
   "execution_count": 63,
   "metadata": {},
   "outputs": [
    {
     "name": "stdout",
     "output_type": "stream",
     "text": [
      "Jewish Federation of Brevard & Indian River Counties\n",
      "Jewish Federation of Greater Lafayette Inc\n",
      "NEW HAMPSHIRE\n",
      "Ithaca Area United Jewish Community\n",
      "Jewish Community Council of Greater Waco and Central Texas\n",
      "Jewish Community Alliance of Lancaster\n",
      "Jewish Federation of Lincoln\n",
      "Duluth UJC\n",
      "Jewish Federation of Huntsville & North Alabama\n",
      "Athens Jewish Welfare Fund\n",
      "GEORGIA\n",
      "JCC-Federation of San Luis Obispo\n",
      "Jewish Federation of Macon & Middle Georgia\n",
      "Atlantic Jewish Council\n",
      "United Jewish Federation\n",
      "Jewish Council for North Central Florida Inc\n"
     ]
    }
   ],
   "source": [
    "for net in total_registered_net:\n",
    "    if net not in members_bloomfire_by_federation_net:\n",
    "        print(net)"
   ]
  },
  {
   "cell_type": "code",
   "execution_count": 64,
   "metadata": {},
   "outputs": [],
   "source": [
    "bloomfire_users=pd.DataFrame()\n",
    "bloomfire_users['category'] = ['total federations','federations registered in Bloomfire','federations active within the past year',]"
   ]
  },
  {
   "cell_type": "code",
   "execution_count": 185,
   "metadata": {},
   "outputs": [
    {
     "data": {
      "text/html": [
       "<div>\n",
       "<style scoped>\n",
       "    .dataframe tbody tr th:only-of-type {\n",
       "        vertical-align: middle;\n",
       "    }\n",
       "\n",
       "    .dataframe tbody tr th {\n",
       "        vertical-align: top;\n",
       "    }\n",
       "\n",
       "    .dataframe thead th {\n",
       "        text-align: right;\n",
       "    }\n",
       "</style>\n",
       "<table border=\"1\" class=\"dataframe\">\n",
       "  <thead>\n",
       "    <tr style=\"text-align: right;\">\n",
       "      <th></th>\n",
       "      <th>category</th>\n",
       "      <th># registered</th>\n",
       "      <th>% registered</th>\n",
       "      <th># active past year</th>\n",
       "      <th>% active past year</th>\n",
       "    </tr>\n",
       "  </thead>\n",
       "  <tbody>\n",
       "    <tr>\n",
       "      <th>0</th>\n",
       "      <td>Users</td>\n",
       "      <td>3865</td>\n",
       "      <td>NaN</td>\n",
       "      <td>1537</td>\n",
       "      <td>39.77</td>\n",
       "    </tr>\n",
       "    <tr>\n",
       "      <th>1</th>\n",
       "      <td>Ferderations</td>\n",
       "      <td>143</td>\n",
       "      <td>99.31</td>\n",
       "      <td>133</td>\n",
       "      <td>93.01</td>\n",
       "    </tr>\n",
       "    <tr>\n",
       "      <th>2</th>\n",
       "      <td>Newtworks</td>\n",
       "      <td>45</td>\n",
       "      <td>15.25</td>\n",
       "      <td>29</td>\n",
       "      <td>64.44</td>\n",
       "    </tr>\n",
       "  </tbody>\n",
       "</table>\n",
       "</div>"
      ],
      "text/plain": [
       "       category  # registered % registered  # active past year  \\\n",
       "0         Users          3865          NaN                1537   \n",
       "1  Ferderations           143        99.31                 133   \n",
       "2     Newtworks            45        15.25                  29   \n",
       "\n",
       "   % active past year  \n",
       "0               39.77  \n",
       "1               93.01  \n",
       "2               64.44  "
      ]
     },
     "execution_count": 185,
     "metadata": {},
     "output_type": "execute_result"
    }
   ],
   "source": [
    "bloomfire_users = pd.DataFrame(columns=['category','# registered','% registered','# active past year','% active past year'])\n",
    "bloomfire_users['category'] = ['Users','Ferderations','Newtworks']\n",
    "bloomfire_users['# registered'] = [total_users,len(total_registered_fed),len(total_registered_net)]\n",
    "bloomfire_users['% registered'] = ['NaN', round(len(total_registered_fed)*100/len(federations_fed),2),round(len(total_registered_net)*100/len(federations_net),2)]\n",
    "bloomfire_users['# active past year'] = [len(members_bloomfire_by_federation),(len(members_bloomfire_by_federation_fed)),(len(members_bloomfire_by_federation_net))]\n",
    "bloomfire_users['% active past year'] = [round(len(members_bloomfire_by_federation)*100/total_users,2),round(len(members_bloomfire_by_federation_fed)*100/len(total_registered_fed),2),round(len(members_bloomfire_by_federation_net)*100/len(total_registered_net),2)]\n",
    "bloomfire_users"
   ]
  },
  {
   "cell_type": "markdown",
   "metadata": {},
   "source": [
    " #### Contributions,Views, Coments, Hi-Fives, Follows within the past year."
   ]
  },
  {
   "cell_type": "code",
   "execution_count": 66,
   "metadata": {},
   "outputs": [],
   "source": [
    "contributions = pd.read_csv('contributions.csv')\n",
    "questions = pd.read_csv('questions.csv')"
   ]
  },
  {
   "cell_type": "code",
   "execution_count": 120,
   "metadata": {},
   "outputs": [
    {
     "data": {
      "text/html": [
       "<div>\n",
       "<style scoped>\n",
       "    .dataframe tbody tr th:only-of-type {\n",
       "        vertical-align: middle;\n",
       "    }\n",
       "\n",
       "    .dataframe tbody tr th {\n",
       "        vertical-align: top;\n",
       "    }\n",
       "\n",
       "    .dataframe thead th {\n",
       "        text-align: right;\n",
       "    }\n",
       "</style>\n",
       "<table border=\"1\" class=\"dataframe\">\n",
       "  <thead>\n",
       "    <tr style=\"text-align: right;\">\n",
       "      <th></th>\n",
       "      <th>Type</th>\n",
       "      <th>Total</th>\n",
       "      <th># federations</th>\n",
       "      <th>% federations</th>\n",
       "      <th># networks</th>\n",
       "      <th>% networks</th>\n",
       "    </tr>\n",
       "  </thead>\n",
       "  <tbody>\n",
       "    <tr>\n",
       "      <th>0</th>\n",
       "      <td>Contributions(Posts+Questions)</td>\n",
       "      <td>1641</td>\n",
       "      <td>111</td>\n",
       "      <td>77.62</td>\n",
       "      <td>13</td>\n",
       "      <td>28.89</td>\n",
       "    </tr>\n",
       "    <tr>\n",
       "      <th>1</th>\n",
       "      <td>Views</td>\n",
       "      <td>23538</td>\n",
       "      <td>131</td>\n",
       "      <td>91.61</td>\n",
       "      <td>27</td>\n",
       "      <td>60.00</td>\n",
       "    </tr>\n",
       "    <tr>\n",
       "      <th>2</th>\n",
       "      <td>Comments</td>\n",
       "      <td>212</td>\n",
       "      <td>74</td>\n",
       "      <td>51.75</td>\n",
       "      <td>5</td>\n",
       "      <td>11.11</td>\n",
       "    </tr>\n",
       "    <tr>\n",
       "      <th>3</th>\n",
       "      <td>Hi-Fives</td>\n",
       "      <td>78</td>\n",
       "      <td>29</td>\n",
       "      <td>20.28</td>\n",
       "      <td>1</td>\n",
       "      <td>2.22</td>\n",
       "    </tr>\n",
       "    <tr>\n",
       "      <th>4</th>\n",
       "      <td>Follows</td>\n",
       "      <td>2277</td>\n",
       "      <td>112</td>\n",
       "      <td>78.32</td>\n",
       "      <td>16</td>\n",
       "      <td>35.56</td>\n",
       "    </tr>\n",
       "  </tbody>\n",
       "</table>\n",
       "</div>"
      ],
      "text/plain": [
       "                             Type  Total  # federations  % federations  \\\n",
       "0  Contributions(Posts+Questions)   1641            111          77.62   \n",
       "1                           Views  23538            131          91.61   \n",
       "2                        Comments    212             74          51.75   \n",
       "3                        Hi-Fives     78             29          20.28   \n",
       "4                         Follows   2277            112          78.32   \n",
       "\n",
       "   # networks  % networks  \n",
       "0          13       28.89  \n",
       "1          27       60.00  \n",
       "2           5       11.11  \n",
       "3           1        2.22  \n",
       "4          16       35.56  "
      ]
     },
     "execution_count": 120,
     "metadata": {},
     "output_type": "execute_result"
    }
   ],
   "source": [
    "table2 = pd.DataFrame(columns=['Type','Total','# federations','% federations'])\n",
    "\n",
    "table2['Type'] = ['Contributions(Posts+Questions)','Views','Comments','Hi-Fives','Follows']\n",
    "\n",
    "total_contributions = members_bloomfire_by_federation['Contributions'].sum()\n",
    "total_views = members_bloomfire_by_federation['Views'].sum()\n",
    "total_comments = members_bloomfire_by_federation['Comments'].sum()\n",
    "total_hi_fives = members_bloomfire_by_federation['Hi-Fives'].sum()\n",
    "total_follows = members_bloomfire_by_federation['Follows'].sum()\n",
    "table2['Total'] = [total_contributions,total_views,total_comments,total_hi_fives,total_follows]\n",
    "\n",
    "contributions_fed = set(members_bloomfire_by_federation[(members_bloomfire_by_federation['Contributions']>0) & (members_bloomfire_by_federation['type']=='yes')]['Organization'])\n",
    "views_bloomfire_fed = set(members_bloomfire_by_federation[(members_bloomfire_by_federation['Views']>0) & (members_bloomfire_by_federation['type']=='yes')]['Organization'])\n",
    "comments_fed = set(members_bloomfire_by_federation[(members_bloomfire_by_federation['Comments']>0) & (members_bloomfire_by_federation['type']=='yes')]['Organization'])\n",
    "hi_fives_fed = set(members_bloomfire_by_federation[(members_bloomfire_by_federation['Hi-Fives']>0) & (members_bloomfire_by_federation['type']=='yes')]['Organization'])\n",
    "follows_fed = set(members_bloomfire_by_federation[(members_bloomfire_by_federation['Follows']>0) & (members_bloomfire_by_federation['type']=='yes')]['Organization'])\n",
    "table2['# federations'] = [len(contributions_fed),len(views_bloomfire_fed),len(comments_fed),len(hi_fives_fed),len(follows_fed)]\n",
    "\n",
    "table2['% federations'] = [round(len(contributions_fed)*100/len(total_registered_fed),2),round(len(views_bloomfire_fed)*100/len(total_registered_fed),2),round(len(comments_fed)*100/len(total_registered_fed),2),round(len(hi_fives_fed)*100/len(total_registered_fed),2),round(len(follows_fed)*100/len(total_registered_fed),2)]\n",
    "\n",
    "contributions_net = set(members_bloomfire_by_federation[(members_bloomfire_by_federation['Contributions']>0) & (members_bloomfire_by_federation['type']=='no')]['Organization'])\n",
    "views_net = set(members_bloomfire_by_federation[(members_bloomfire_by_federation['Views']>0) & (members_bloomfire_by_federation['type']=='no')]['Organization'])\n",
    "comments_net = set(members_bloomfire_by_federation[(members_bloomfire_by_federation['Comments']>0) & (members_bloomfire_by_federation['type']=='no')]['Organization'])\n",
    "hi_fives_net = set(members_bloomfire_by_federation[(members_bloomfire_by_federation['Hi-Fives']>0) & (members_bloomfire_by_federation['type']=='no')]['Organization'])\n",
    "follows_net = set(members_bloomfire_by_federation[(members_bloomfire_by_federation['Follows']>0) & (members_bloomfire_by_federation['type']=='no')]['Organization'])\n",
    "table2['# networks'] = [len(contributions_net),len(views_net),len(comments_net),len(hi_fives_net),len(follows_net)]\n",
    "table2['% networks'] = [round(len(contributions_net)*100/len(total_registered_net),2),round(len(views_net)*100/len(total_registered_net),2),round(len(comments_net)*100/len(total_registered_net),2),round(len(hi_fives_net)*100/len(total_registered_net),2),round(len(follows_net)*100/len(total_registered_net),2)]\n",
    "table2"
   ]
  },
  {
   "cell_type": "markdown",
   "metadata": {},
   "source": [
    "See statistics for contributions below:"
   ]
  },
  {
   "cell_type": "code",
   "execution_count": 68,
   "metadata": {},
   "outputs": [],
   "source": [
    "post = len(contributions[contributions['Type']=='Post'])\n",
    "question = len(contributions[contributions['Type']=='Question'])\n",
    "contributions_stats = pd.DataFrame()\n",
    "contributions_stats['Contribution Type'] = ['Post','Question']\n",
    "contributions_stats['Total'] = [post,question]\n",
    "contributions_stats['# Views'] = [contributions[contributions['Type']=='Post']['Total Views'].sum(), contributions[contributions['Type']=='Question']['Total Views'].sum()]"
   ]
  },
  {
   "cell_type": "code",
   "execution_count": 69,
   "metadata": {},
   "outputs": [
    {
     "data": {
      "text/html": [
       "<div>\n",
       "<style scoped>\n",
       "    .dataframe tbody tr th:only-of-type {\n",
       "        vertical-align: middle;\n",
       "    }\n",
       "\n",
       "    .dataframe tbody tr th {\n",
       "        vertical-align: top;\n",
       "    }\n",
       "\n",
       "    .dataframe thead th {\n",
       "        text-align: right;\n",
       "    }\n",
       "</style>\n",
       "<table border=\"1\" class=\"dataframe\">\n",
       "  <thead>\n",
       "    <tr style=\"text-align: right;\">\n",
       "      <th></th>\n",
       "      <th>Contribution Type</th>\n",
       "      <th>Total</th>\n",
       "      <th># Views</th>\n",
       "    </tr>\n",
       "  </thead>\n",
       "  <tbody>\n",
       "    <tr>\n",
       "      <th>0</th>\n",
       "      <td>Post</td>\n",
       "      <td>560</td>\n",
       "      <td>9409</td>\n",
       "    </tr>\n",
       "    <tr>\n",
       "      <th>1</th>\n",
       "      <td>Question</td>\n",
       "      <td>935</td>\n",
       "      <td>13638</td>\n",
       "    </tr>\n",
       "  </tbody>\n",
       "</table>\n",
       "</div>"
      ],
      "text/plain": [
       "  Contribution Type  Total  # Views\n",
       "0              Post    560     9409\n",
       "1          Question    935    13638"
      ]
     },
     "execution_count": 69,
     "metadata": {},
     "output_type": "execute_result"
    }
   ],
   "source": [
    "contributions_stats"
   ]
  },
  {
   "cell_type": "markdown",
   "metadata": {},
   "source": [
    "See statistics for questions below:"
   ]
  },
  {
   "cell_type": "code",
   "execution_count": 70,
   "metadata": {},
   "outputs": [
    {
     "data": {
      "text/html": [
       "<div>\n",
       "<style scoped>\n",
       "    .dataframe tbody tr th:only-of-type {\n",
       "        vertical-align: middle;\n",
       "    }\n",
       "\n",
       "    .dataframe tbody tr th {\n",
       "        vertical-align: top;\n",
       "    }\n",
       "\n",
       "    .dataframe thead th {\n",
       "        text-align: right;\n",
       "    }\n",
       "</style>\n",
       "<table border=\"1\" class=\"dataframe\">\n",
       "  <thead>\n",
       "    <tr style=\"text-align: right;\">\n",
       "      <th></th>\n",
       "      <th>characteristics</th>\n",
       "      <th>values</th>\n",
       "    </tr>\n",
       "  </thead>\n",
       "  <tbody>\n",
       "    <tr>\n",
       "      <th>0</th>\n",
       "      <td>% of answered questions</td>\n",
       "      <td>72.03</td>\n",
       "    </tr>\n",
       "    <tr>\n",
       "      <th>1</th>\n",
       "      <td>Average Time to First Answer in mins</td>\n",
       "      <td>34.00</td>\n",
       "    </tr>\n",
       "    <tr>\n",
       "      <th>2</th>\n",
       "      <td>Average Answers</td>\n",
       "      <td>2.52</td>\n",
       "    </tr>\n",
       "    <tr>\n",
       "      <th>3</th>\n",
       "      <td>Average Answer Hi-Fives</td>\n",
       "      <td>0.00</td>\n",
       "    </tr>\n",
       "  </tbody>\n",
       "</table>\n",
       "</div>"
      ],
      "text/plain": [
       "                        characteristics  values\n",
       "0               % of answered questions   72.03\n",
       "1  Average Time to First Answer in mins   34.00\n",
       "2                       Average Answers    2.52\n",
       "3               Average Answer Hi-Fives    0.00"
      ]
     },
     "execution_count": 70,
     "metadata": {},
     "output_type": "execute_result"
    }
   ],
   "source": [
    "questions_stats = pd.DataFrame()\n",
    "questions_stats['characteristics'] = ['% of answered questions','Average Time to First Answer in mins',\n",
    "                                      'Average Answers','Average Answer Hi-Fives']\n",
    "questions_stats['values'] = [round(len(questions[questions['Status']=='Answered'])*100/len(questions),2),\n",
    "                             round((questions['Time to First Answer']/60).median(),0), round(questions['Total Answers'].mean(),2),\n",
    "                             round(questions['Answer Hi-Fives'].mean())]\n",
    "questions_stats"
   ]
  },
  {
   "cell_type": "markdown",
   "metadata": {},
   "source": [
    "See daily statistics below:"
   ]
  },
  {
   "cell_type": "code",
   "execution_count": 71,
   "metadata": {},
   "outputs": [
    {
     "data": {
      "text/html": [
       "<div>\n",
       "<style scoped>\n",
       "    .dataframe tbody tr th:only-of-type {\n",
       "        vertical-align: middle;\n",
       "    }\n",
       "\n",
       "    .dataframe tbody tr th {\n",
       "        vertical-align: top;\n",
       "    }\n",
       "\n",
       "    .dataframe thead th {\n",
       "        text-align: right;\n",
       "    }\n",
       "</style>\n",
       "<table border=\"1\" class=\"dataframe\">\n",
       "  <thead>\n",
       "    <tr style=\"text-align: right;\">\n",
       "      <th></th>\n",
       "      <th>characteristics</th>\n",
       "      <th>values</th>\n",
       "    </tr>\n",
       "  </thead>\n",
       "  <tbody>\n",
       "    <tr>\n",
       "      <th>0</th>\n",
       "      <td>Daily Average Active Members</td>\n",
       "      <td>47.08</td>\n",
       "    </tr>\n",
       "    <tr>\n",
       "      <th>1</th>\n",
       "      <td>Daily Average Contributing Members</td>\n",
       "      <td>3.00</td>\n",
       "    </tr>\n",
       "    <tr>\n",
       "      <th>2</th>\n",
       "      <td>Daily Average Total Contributions</td>\n",
       "      <td>3.80</td>\n",
       "    </tr>\n",
       "    <tr>\n",
       "      <th>3</th>\n",
       "      <td>Daily Average Total Views</td>\n",
       "      <td>58.61</td>\n",
       "    </tr>\n",
       "  </tbody>\n",
       "</table>\n",
       "</div>"
      ],
      "text/plain": [
       "                      characteristics  values\n",
       "0        Daily Average Active Members   47.08\n",
       "1  Daily Average Contributing Members    3.00\n",
       "2   Daily Average Total Contributions    3.80\n",
       "3           Daily Average Total Views   58.61"
      ]
     },
     "execution_count": 71,
     "metadata": {},
     "output_type": "execute_result"
    }
   ],
   "source": [
    "daily_stats = pd.DataFrame()\n",
    "daily_engagement = pd.read_csv('daily_engagement.csv')\n",
    "daily_stats['characteristics'] = ['Daily Average Active Members','Daily Average Contributing Members', 'Daily Average Total Contributions',\n",
    "                                    'Daily Average Total Views']\n",
    "daily_stats['values'] = [round(daily_engagement['Active Members'].mean(),2),\n",
    "                         round(daily_engagement['Contributing Members'].mean(),0),round(daily_engagement['Total Contributions'].mean(),2),\n",
    "                         round(daily_engagement['Total Views'].mean(),2)]\n",
    "daily_stats"
   ]
  },
  {
   "cell_type": "markdown",
   "metadata": {},
   "source": [
    "### Assets"
   ]
  },
  {
   "cell_type": "code",
   "execution_count": 72,
   "metadata": {},
   "outputs": [],
   "source": [
    "assets = pd.read_csv('assets.csv')\n",
    "assets = assets[assets['Date Approved']!='NaN']\n",
    "assets = assets[assets['Date Approved']!='1935']\n",
    "assets=assets[assets['Date Approved'].str.contains('[A-Za-z]')==False]\n",
    "assets['Date Approved'] = assets['Date Approved'].str.split(' ',expand = True)[0]\n",
    "assets = assets[pd.isnull(assets['Date Approved'])==False]\n",
    "assets['Date Approved'] = pd.to_datetime(assets['Date Approved'], format ='%m/%d/%y')\n",
    "assets_yearly = assets[assets['Date Approved'] < '2019/1/1']\n",
    "assets_past_year_by_federations = pd.merge(assets_yearly,fedcentral_users_by_federation[['Email','code','name','type']],how='left',left_on='Author (email)',right_on='Email')\n",
    "assets_yearly.set_index('Date Approved',inplace=True)\n",
    "assets_past_year_by_federations.set_index('Date Approved',inplace=True)"
   ]
  },
  {
   "cell_type": "markdown",
   "metadata": {},
   "source": [
    "See assets statistics below:"
   ]
  },
  {
   "cell_type": "code",
   "execution_count": 73,
   "metadata": {},
   "outputs": [
    {
     "data": {
      "text/html": [
       "<div>\n",
       "<style scoped>\n",
       "    .dataframe tbody tr th:only-of-type {\n",
       "        vertical-align: middle;\n",
       "    }\n",
       "\n",
       "    .dataframe tbody tr th {\n",
       "        vertical-align: top;\n",
       "    }\n",
       "\n",
       "    .dataframe thead tr th {\n",
       "        text-align: left;\n",
       "    }\n",
       "</style>\n",
       "<table border=\"1\" class=\"dataframe\">\n",
       "  <thead>\n",
       "    <tr>\n",
       "      <th></th>\n",
       "      <th>Year</th>\n",
       "      <th># Assets Added</th>\n",
       "      <th>Total Assets</th>\n",
       "      <th># of federations uploaded assests</th>\n",
       "      <th>% of change</th>\n",
       "    </tr>\n",
       "  </thead>\n",
       "  <tbody>\n",
       "    <tr>\n",
       "      <th>0</th>\n",
       "      <td>2015</td>\n",
       "      <td>2321</td>\n",
       "      <td>2321</td>\n",
       "      <td>3</td>\n",
       "      <td>NaN</td>\n",
       "    </tr>\n",
       "    <tr>\n",
       "      <th>1</th>\n",
       "      <td>2016</td>\n",
       "      <td>1659</td>\n",
       "      <td>3980</td>\n",
       "      <td>59</td>\n",
       "      <td>71.477811</td>\n",
       "    </tr>\n",
       "    <tr>\n",
       "      <th>2</th>\n",
       "      <td>2017</td>\n",
       "      <td>1903</td>\n",
       "      <td>5883</td>\n",
       "      <td>33</td>\n",
       "      <td>47.814070</td>\n",
       "    </tr>\n",
       "    <tr>\n",
       "      <th>3</th>\n",
       "      <td>2018</td>\n",
       "      <td>969</td>\n",
       "      <td>6852</td>\n",
       "      <td>28</td>\n",
       "      <td>16.471188</td>\n",
       "    </tr>\n",
       "  </tbody>\n",
       "</table>\n",
       "</div>"
      ],
      "text/plain": [
       "   Year # Assets Added Total Assets # of federations uploaded assests  \\\n",
       "0  2015           2321         2321                                 3   \n",
       "1  2016           1659         3980                                59   \n",
       "2  2017           1903         5883                                33   \n",
       "3  2018            969         6852                                28   \n",
       "\n",
       "  % of change  \n",
       "0         NaN  \n",
       "1   71.477811  \n",
       "2   47.814070  \n",
       "3   16.471188  "
      ]
     },
     "execution_count": 73,
     "metadata": {},
     "output_type": "execute_result"
    }
   ],
   "source": [
    "assets_added = pd.DataFrame(assets_yearly.resample('Y')['ID'].count())\n",
    "assets_added.reset_index(inplace=True)\n",
    "assets_added.columns=[['Year','# Assets Added']]\n",
    "assets_added['Year'] = ['2015','2016','2017','2018']\n",
    "assets_cumsum = pd.DataFrame(assets_yearly.resample('Y')['ID'].count().cumsum())\n",
    "assets_added['Total Assets'] = assets_cumsum['ID'].values\n",
    "#assets_past_year_by_federations.set_index('Date Approved',inplace=True)\n",
    "assets_past_year_by_federations\n",
    "assets_added['# of federations uploaded assests'] = assets_past_year_by_federations[assets_past_year_by_federations['type']=='yes'].resample('Y')['name'].nunique().values\n",
    "#assets_added['# of networks uploaded assests'] = assets_past_year_by_federations[assets_past_year_by_federations['type']=='no'].resample('Y')['name'].nunique().values\n",
    "assets_added['% of change'] = assets_added['Total Assets'].pct_change()*100\n",
    "assets_added"
   ]
  },
  {
   "cell_type": "code",
   "execution_count": 3,
   "metadata": {},
   "outputs": [
    {
     "data": {
      "image/png": "[encoded data removed]",
      "text/plain": [
       "<Figure size 360x360 with 1 Axes>"
      ]
     },
     "metadata": {},
     "output_type": "display_data"
    }
   ],
   "source": [
    "assets_added = pd.DataFrame({'Year':['2015','2016','2017','2018'],'Total Assets':[2321,3980,5883,6852]})\n",
    "sns.set(style=\"ticks\")\n",
    "\n",
    "flatui = [\"#34495e\"]\n",
    "\n",
    "# This Function takes as input a custom palette\n",
    "g = sns.barplot(x='Year', y='Total Assets', palette=sns.color_palette(flatui),data=assets_added, ci=None)\n",
    "\n",
    "# remove the top and right line in graph\n",
    "sns.despine()\n",
    "\n",
    "# Set the size of the graph from here\n",
    "g.figure.set_size_inches(5,5)\n",
    "# Set the Title of the graph from here\n",
    "g.axes.set_title('Number of Assets',\n",
    "    fontsize=20,color=\"b\",alpha=0.3)\n",
    "# Set the xlabel of the graph from here\n",
    "g.set_xlabel(\"years\",size = 15,color=\"b\",alpha=0.5)\n",
    "# Set the ylabel of the graph from here\n",
    "g.set_ylabel(\"assets\",size = 15,color=\"b\",alpha=0.5)\n",
    "# Set the ticklabel size and color of the graph from here\n",
    "g.tick_params(labelsize=12,labelcolor=\"black\")"
   ]
  },
  {
   "cell_type": "markdown",
   "metadata": {},
   "source": [
    "## Federation Report (Snapshot of Data on a Per Federation Basis)"
   ]
  },
  {
   "cell_type": "markdown",
   "metadata": {},
   "source": [
    "### Combined Jewish Philanthropies of Greater Boston Inc."
   ]
  },
  {
   "cell_type": "markdown",
   "metadata": {},
   "source": [
    "#### Number of registered FedCentral users"
   ]
  },
  {
   "cell_type": "code",
   "execution_count": 127,
   "metadata": {},
   "outputs": [
    {
     "data": {
      "text/html": [
       "<div>\n",
       "<style scoped>\n",
       "    .dataframe tbody tr th:only-of-type {\n",
       "        vertical-align: middle;\n",
       "    }\n",
       "\n",
       "    .dataframe tbody tr th {\n",
       "        vertical-align: top;\n",
       "    }\n",
       "\n",
       "    .dataframe thead th {\n",
       "        text-align: right;\n",
       "    }\n",
       "</style>\n",
       "<table border=\"1\" class=\"dataframe\">\n",
       "  <thead>\n",
       "    <tr style=\"text-align: right;\">\n",
       "      <th></th>\n",
       "      <th>admins</th>\n",
       "      <th>values</th>\n",
       "    </tr>\n",
       "  </thead>\n",
       "  <tbody>\n",
       "    <tr>\n",
       "      <th>0</th>\n",
       "      <td># admins</td>\n",
       "      <td>31.00</td>\n",
       "    </tr>\n",
       "    <tr>\n",
       "      <th>1</th>\n",
       "      <td># registered FedCentral (and Bloomfire) users</td>\n",
       "      <td>65.00</td>\n",
       "    </tr>\n",
       "    <tr>\n",
       "      <th>2</th>\n",
       "      <td># FedCentral active users past year</td>\n",
       "      <td>22.00</td>\n",
       "    </tr>\n",
       "    <tr>\n",
       "      <th>3</th>\n",
       "      <td>% FedCentral active past year</td>\n",
       "      <td>33.85</td>\n",
       "    </tr>\n",
       "    <tr>\n",
       "      <th>4</th>\n",
       "      <td># Bloomfire active users past year</td>\n",
       "      <td>11.00</td>\n",
       "    </tr>\n",
       "    <tr>\n",
       "      <th>5</th>\n",
       "      <td>% Bloomfire active past year</td>\n",
       "      <td>16.92</td>\n",
       "    </tr>\n",
       "  </tbody>\n",
       "</table>\n",
       "</div>"
      ],
      "text/plain": [
       "                                          admins  values\n",
       "0                                       # admins   31.00\n",
       "1  # registered FedCentral (and Bloomfire) users   65.00\n",
       "2            # FedCentral active users past year   22.00\n",
       "3                  % FedCentral active past year   33.85\n",
       "4             # Bloomfire active users past year   11.00\n",
       "5                   % Bloomfire active past year   16.92"
      ]
     },
     "execution_count": 127,
     "metadata": {},
     "output_type": "execute_result"
    }
   ],
   "source": [
    "table = pd.DataFrame(columns=['admins','values'])\n",
    "active_fedcentral = len(set(fedcentral_users_by_federation[(fedcentral_users_by_federation['Last Login']>'10/31/2017') & \n",
    "                                       (fedcentral_users_by_federation['Last Login']<'11/1/2018') & \n",
    "                                       (fedcentral_users_by_federation['code']=='22100')]['Email']))\n",
    "active_bloomfire = members_bloomfire_by_federation[members_bloomfire_by_federation['code']=='22100']['Email'].nunique()\n",
    "members_bloomfire_by_federation[members_bloomfire_by_federation['code']=='22100']\n",
    "total_fedcentral = len(set(fedcentral_users_by_federation[fedcentral_users_by_federation['code']=='22100']['Email']))\n",
    "table['admins'] = ['# admins','# registered FedCentral (and Bloomfire) users',\n",
    "                   '# FedCentral active users past year','% FedCentral active past year',\n",
    "                  '# Bloomfire active users past year','% Bloomfire active past year']\n",
    "table['values'] = [31, total_fedcentral, active_fedcentral, round(active_fedcentral*100/total_fedcentral,2),\n",
    "                  active_bloomfire,round(active_bloomfire*100/total_fedcentral,2)]\n",
    "table"
   ]
  },
  {
   "cell_type": "code",
   "execution_count": 123,
   "metadata": {},
   "outputs": [
    {
     "data": {
      "text/html": [
       "<div>\n",
       "<style scoped>\n",
       "    .dataframe tbody tr th:only-of-type {\n",
       "        vertical-align: middle;\n",
       "    }\n",
       "\n",
       "    .dataframe tbody tr th {\n",
       "        vertical-align: top;\n",
       "    }\n",
       "\n",
       "    .dataframe thead th {\n",
       "        text-align: right;\n",
       "    }\n",
       "</style>\n",
       "<table border=\"1\" class=\"dataframe\">\n",
       "  <thead>\n",
       "    <tr style=\"text-align: right;\">\n",
       "      <th></th>\n",
       "      <th>characteristics</th>\n",
       "      <th>values</th>\n",
       "    </tr>\n",
       "  </thead>\n",
       "  <tbody>\n",
       "    <tr>\n",
       "      <th>0</th>\n",
       "      <td># views past year</td>\n",
       "      <td>175.0</td>\n",
       "    </tr>\n",
       "    <tr>\n",
       "      <th>1</th>\n",
       "      <td># assets downloads past year</td>\n",
       "      <td>132.0</td>\n",
       "    </tr>\n",
       "    <tr>\n",
       "      <th>2</th>\n",
       "      <td># assets downloads+views past year</td>\n",
       "      <td>166.0</td>\n",
       "    </tr>\n",
       "    <tr>\n",
       "      <th>3</th>\n",
       "      <td># searches past year</td>\n",
       "      <td>141.0</td>\n",
       "    </tr>\n",
       "  </tbody>\n",
       "</table>\n",
       "</div>"
      ],
      "text/plain": [
       "                      characteristics  values\n",
       "0                   # views past year   175.0\n",
       "1        # assets downloads past year   132.0\n",
       "2  # assets downloads+views past year   166.0\n",
       "3                # searches past year   141.0"
      ]
     },
     "execution_count": 123,
     "metadata": {},
     "output_type": "execute_result"
    }
   ],
   "source": [
    "views_fed['Pageviews'] = views_fed['Pageviews'].str.replace(',','')\n",
    "views_fed['Pageviews'] = pd.to_numeric(views_fed['Pageviews'])\n",
    "\n",
    "table = pd.DataFrame()\n",
    "table['characteristics'] = ['# views past year','# assets downloads past year','# assets downloads+views past year','# searches past year']\n",
    "table['values'] = [views_fed[views_fed['code']=='22100']['Pageviews'].sum(),\n",
    "                   downloads_fed[downloads_fed['User Organization']=='22100']['Total Events'].sum(),\n",
    "                   views_fed[(views_fed['Page'].str.contains('/view')) & (views_fed['User Organization']=='22100')]['Pageviews'].sum() + downloads_fed[downloads_fed['User Organization']=='22100']['Total Events'].sum(),\n",
    "                   searches_fed[searches_fed['User Organization']=='22100']['Total Events'].sum()]\n",
    "table"
   ]
  }
 ],
 "metadata": {
  "kernelspec": {
   "display_name": "Python 3",
   "language": "python",
   "name": "python3"
  },
  "language_info": {
   "codemirror_mode": {
    "name": "ipython",
    "version": 3
   },
   "file_extension": ".py",
   "mimetype": "text/x-python",
   "name": "python",
   "nbconvert_exporter": "python",
   "pygments_lexer": "ipython3",
   "version": "3.6.5"
  }
 },
 "nbformat": 4,
 "nbformat_minor": 2
}
